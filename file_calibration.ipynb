{
 "cells": [
  {
   "cell_type": "markdown",
   "id": "504e14fa",
   "metadata": {},
   "source": [
    "# Single File Calibration\n",
    "\n",
    "**by Josh Dillon, Aaron Parsons, Tyler Cox, and Zachary Martinot**, last updated July 15, 2024\n",
    "\n",
    "This notebook is designed to infer as much information about the array from a single file, including pushing the calibration and RFI mitigation as far as possible. Calibration includes redundant-baseline calibration, RFI-based calibration of delay slopes, model-based calibration of overall amplitudes, and a full per-frequency phase gradient absolute calibration if abscal model files are available.\n",
    "\n",
    "Here's a set of links to skip to particular figures and tables:\n",
    "# [• Figure 1: RFI Flagging](#Figure-1:-RFI-Flagging)\n",
    "# [• Figure 2: Plot of autocorrelations with classifications](#Figure-2:-Plot-of-autocorrelations-with-classifications)\n",
    "# [• Figure 3: Summary of antenna classifications prior to calibration](#Figure-3:-Summary-of-antenna-classifications-prior-to-calibration)\n",
    "# [• Figure 4: Redundant calibration of a single baseline group](#Figure-4:-Redundant-calibration-of-a-single-baseline-group)\n",
    "# [• Figure 5: Absolute calibration of redcal degeneracies](#Figure-5:-Absolute-calibration-of-redcal-degeneracies)\n",
    "# [• Figure 6: Relative Phase Calibration](#Figure-6:-Relative-Phase-Calibration)\n",
    "# [• Figure 7: chi^2 per antenna across the array](#Figure-7:-chi^2-per-antenna-across-the-array)\n",
    "# [• Figure 8: Summary of antenna classifications after redundant calibration](#Figure-8:-Summary-of-antenna-classifications-after-redundant-calibration)\n",
    "# [• Table 1: Complete summary of per antenna classifications](#Table-1:-Complete-summary-of-per-antenna-classifications)\n"
   ]
  },
  {
   "cell_type": "code",
   "execution_count": 2,
   "id": "e92f02b8",
   "metadata": {},
   "outputs": [
    {
     "name": "stdout",
     "output_type": "stream",
     "text": [
      "wario\n"
     ]
    }
   ],
   "source": [
    "import time\n",
    "tstart = time.time()\n",
    "!hostname"
   ]
  },
  {
   "cell_type": "code",
   "execution_count": 7,
   "id": "668f7418",
   "metadata": {},
   "outputs": [
    {
     "data": {
      "text/html": [
       "<style>.container { width:100% !important; }</style>"
      ],
      "text/plain": [
       "<IPython.core.display.HTML object>"
      ]
     },
     "metadata": {},
     "output_type": "display_data"
    }
   ],
   "source": [
    "import os\n",
    "import time\n",
    "os.environ['HDF5_USE_FILE_LOCKING'] = 'FALSE'\n",
    "import h5py\n",
    "import hdf5plugin  # REQUIRED to have the compression plugins available\n",
    "import numpy as np\n",
    "from scipy import constants, interpolate\n",
    "import copy\n",
    "import glob\n",
    "import re\n",
    "import matplotlib\n",
    "import matplotlib.pyplot as plt\n",
    "import pandas as pd\n",
    "pd.set_option('display.max_rows', 1000)\n",
    "from uvtools.plot import plot_antpos, plot_antclass\n",
    "from hera_qm import ant_metrics, ant_class, xrfi\n",
    "from hera_cal import io, utils, redcal, apply_cal, datacontainer, abscal\n",
    "from hera_filters import dspec\n",
    "#from hera_notebook_templates.data import DATA_PATH as HNBT_DATA\n",
    "from IPython.display import display, HTML\n",
    "import linsolve\n",
    "display(HTML(\"<style>.container { width:100% !important; }</style>\"))\n",
    "_ = np.seterr(all='ignore')  # get rid of red warnings\n",
    "%config InlineBackend.figure_format = 'retina'"
   ]
  },
  {
   "cell_type": "code",
   "execution_count": 2,
   "id": "ef7c7cbe",
   "metadata": {
    "code_folding": []
   },
   "outputs": [],
   "source": [
    "# this enables better memory management on linux\n",
    "import ctypes\n",
    "def malloc_trim():\n",
    "    try:\n",
    "        ctypes.CDLL('libc.so.6').malloc_trim(0) \n",
    "    except OSError:\n",
    "        pass"
   ]
  },
  {
   "cell_type": "markdown",
   "id": "ab0f8167",
   "metadata": {},
   "source": [
    "## Parse inputs and outputs\n",
    "\n",
    "To use this notebook interactively, you will have to provide a sum filename path if none exists as an environment variable. All other parameters have reasonable default values.\n"
   ]
  },
  {
   "cell_type": "code",
   "execution_count": 3,
   "id": "4b88cc02",
   "metadata": {},
   "outputs": [
    {
     "name": "stdout",
     "output_type": "stream",
     "text": [
      "SUM_FILE = '/safepool/rbyrne/hera_data/H6C-data/2459861/zen.2459861.45004.sum.abs_calibrated.red_avg.uvh5'\n",
      "DIFF_FILE = '/safepool/rbyrne/hera_data/H6C-data/2459861/zen.2459861.45004.diff.abs_calibrated.red_avg.uvh5'\n",
      "AM_FILE = '/safepool/rbyrne/hera_data/H6C-data/2459861/zen.2459861.45004.sum.abs_calibrated.red_avg.ant_metrics.hdf5'\n",
      "ANTCLASS_FILE = '/safepool/rbyrne/hera_data/H6C-data/2459861/zen.2459861.45004.sum.abs_calibrated.red_avg.ant_class.csv'\n",
      "OMNICAL_FILE = '/safepool/rbyrne/hera_data/H6C-data/2459861/zen.2459861.45004.sum.abs_calibrated.red_avg.omni.calfits'\n",
      "OMNIVIS_FILE = '/safepool/rbyrne/hera_data/H6C-data/2459861/zen.2459861.45004.sum.abs_calibrated.red_avg.omni_vis.uvh5'\n",
      "SAVE_RESULTS = 'True'\n",
      "SAVE_OMNIVIS_FILE = 'False'\n"
     ]
    }
   ],
   "source": [
    "# figure out whether to save results\n",
    "SAVE_RESULTS = os.environ.get(\"SAVE_RESULTS\", \"TRUE\").upper() == \"TRUE\"\n",
    "SAVE_OMNIVIS_FILE = os.environ.get(\"SAVE_OMNIVIS_FILE\", \"FALSE\").upper() == \"TRUE\"\n",
    "\n",
    "\n",
    "# get infile names\n",
    "# SUM_FILE = os.environ.get(\"SUM_FILE\", None)\n",
    "SUM_FILE = \"/safepool/rbyrne/hera_data/H6C-data/2459861/zen.2459861.45004.sum.abs_calibrated.red_avg.uvh5\"\n",
    "DIFF_FILE = SUM_FILE.replace('sum', 'diff')\n",
    "\n",
    "# get outfilenames\n",
    "AM_FILE = (SUM_FILE.replace('.uvh5', '.ant_metrics.hdf5') if SAVE_RESULTS else None)\n",
    "ANTCLASS_FILE = (SUM_FILE.replace('.uvh5', '.ant_class.csv') if SAVE_RESULTS else None)\n",
    "OMNICAL_FILE = (SUM_FILE.replace('.uvh5', '.omni.calfits') if SAVE_RESULTS else None)\n",
    "OMNIVIS_FILE = (SUM_FILE.replace('.uvh5', '.omni_vis.uvh5') if SAVE_RESULTS else None)\n",
    "\n",
    "for fname in ['SUM_FILE', 'DIFF_FILE', 'AM_FILE', 'ANTCLASS_FILE', 'OMNICAL_FILE', 'OMNIVIS_FILE', 'SAVE_RESULTS', 'SAVE_OMNIVIS_FILE']:\n",
    "    print(f\"{fname} = '{eval(fname)}'\")"
   ]
  },
  {
   "cell_type": "markdown",
   "id": "8105807c",
   "metadata": {},
   "source": [
    "### Parse settings\n",
    "Load settings relating to the operation of the notebook, then print what was loaded (or default)."
   ]
  },
  {
   "cell_type": "code",
   "execution_count": 4,
   "id": "8e65c0bf",
   "metadata": {},
   "outputs": [
    {
     "name": "stdout",
     "output_type": "stream",
     "text": [
      "PLOT = True\n",
      "SAVE_RESULTS = True\n",
      "OC_MAX_DIMS = 4\n",
      "OC_MIN_DIM_SIZE = 8\n",
      "OC_SKIP_OUTRIGGERS = False\n",
      "OC_MIN_BL_LEN = 1.0\n",
      "OC_MAX_BL_LEN = 1e+100\n",
      "OC_MAXITER = 50\n",
      "OC_MAX_RERUN = 4\n",
      "OC_RERUN_MAXITER = 25\n",
      "OC_MAX_CHISQ_FLAGGING_DYNAMIC_RANGE = 1.0\n",
      "OC_USE_PRIOR_SOL = False\n",
      "OC_PRIOR_SOL_FLAG_THRESH = 0.95\n",
      "OC_USE_GPU = False\n",
      "RFI_DPSS_HALFWIDTH = 3e-07\n",
      "RFI_NSIG = 4.0\n",
      "ABSCAL_MODEL_FILES_GLOB = None\n",
      "ABSCAL_MIN_BL_LEN = 1.0\n",
      "ABSCAL_MAX_BL_LEN = 140.0\n",
      "CALIBRATE_CROSS_POLS = False\n"
     ]
    }
   ],
   "source": [
    "# parse plotting settings\n",
    "PLOT = os.environ.get(\"PLOT\", \"TRUE\").upper() == \"TRUE\"\n",
    "if PLOT:\n",
    "    %matplotlib inline\n",
    "\n",
    "# parse omnical settings\n",
    "OC_MAX_DIMS = int(os.environ.get(\"OC_MAX_DIMS\", 4))\n",
    "OC_MIN_DIM_SIZE = int(os.environ.get(\"OC_MIN_DIM_SIZE\", 8))\n",
    "OC_SKIP_OUTRIGGERS = os.environ.get(\"OC_SKIP_OUTRIGGERS\", \"FALSE\").upper() == \"TRUE\"\n",
    "OC_MIN_BL_LEN = float(os.environ.get(\"OC_MIN_BL_LEN\", 1))\n",
    "OC_MAX_BL_LEN = float(os.environ.get(\"OC_MAX_BL_LEN\", 1e100))\n",
    "OC_MAXITER = int(os.environ.get(\"OC_MAXITER\", 50))\n",
    "OC_MAX_RERUN = int(os.environ.get(\"OC_MAX_RERUN\", 4))\n",
    "OC_RERUN_MAXITER = int(os.environ.get(\"OC_MAXITER\", 25))\n",
    "OC_MAX_CHISQ_FLAGGING_DYNAMIC_RANGE = float(os.environ.get(\"OC_MAX_CHISQ_FLAGGING_DYNAMIC_RANGE\", 1))\n",
    "OC_USE_PRIOR_SOL = os.environ.get(\"OC_USE_PRIOR_SOL\", \"FALSE\").upper() == \"TRUE\"\n",
    "OC_PRIOR_SOL_FLAG_THRESH = float(os.environ.get(\"OC_PRIOR_SOL_FLAG_THRESH\", .95))\n",
    "OC_USE_GPU = os.environ.get(\"SAVE_RESULTS\", \"FALSE\").upper() == \"TRUE\"\n",
    "\n",
    "# parse RFI settings\n",
    "RFI_DPSS_HALFWIDTH = float(os.environ.get(\"RFI_DPSS_HALFWIDTH\", 300e-9))\n",
    "RFI_NSIG = float(os.environ.get(\"RFI_NSIG\", 4))\n",
    "\n",
    "# parse abscal settings\n",
    "ABSCAL_MODEL_FILES_GLOB = os.environ.get(\"ABSCAL_MODEL_FILES_GLOB\", None)\n",
    "ABSCAL_MIN_BL_LEN = float(os.environ.get(\"ABSCAL_MIN_BL_LEN\", 1.0))\n",
    "ABSCAL_MAX_BL_LEN = float(os.environ.get(\"ABSCAL_MAX_BL_LEN\", 140.0))\n",
    "CALIBRATE_CROSS_POLS = os.environ.get(\"CALIBRATE_CROSS_POLS\", \"FALSE\").upper() == \"TRUE\"\n",
    "\n",
    "# print settings\n",
    "for setting in ['PLOT', 'SAVE_RESULTS', 'OC_MAX_DIMS', 'OC_MIN_DIM_SIZE', 'OC_SKIP_OUTRIGGERS', \n",
    "                'OC_MIN_BL_LEN', 'OC_MAX_BL_LEN', 'OC_MAXITER', 'OC_MAX_RERUN', 'OC_RERUN_MAXITER', \n",
    "                'OC_MAX_CHISQ_FLAGGING_DYNAMIC_RANGE', 'OC_USE_PRIOR_SOL', 'OC_PRIOR_SOL_FLAG_THRESH', \n",
    "                'OC_USE_GPU', 'RFI_DPSS_HALFWIDTH', 'RFI_NSIG', 'ABSCAL_MODEL_FILES_GLOB', \n",
    "                'ABSCAL_MIN_BL_LEN', 'ABSCAL_MAX_BL_LEN', \"CALIBRATE_CROSS_POLS\"]:\n",
    "    print(f'{setting} = {eval(setting)}')"
   ]
  },
  {
   "cell_type": "markdown",
   "id": "5596c041",
   "metadata": {},
   "source": [
    "### Parse bounds\n",
    "Load settings related to classifying antennas as good, suspect, or bad, then print what was loaded (or default)."
   ]
  },
  {
   "cell_type": "code",
   "execution_count": 5,
   "id": "9ebbfd85",
   "metadata": {},
   "outputs": [
    {
     "name": "stdout",
     "output_type": "stream",
     "text": [
      "am_corr_bad = (0, 0.3)\n",
      "am_corr_suspect = (0.3, 0.5)\n",
      "am_xpol_bad = (-1, -0.1)\n",
      "am_xpol_suspect = (-0.1, 0.0)\n",
      "good_solar_altitude = (-90, 0.0)\n",
      "suspect_solar_altitude = (0.0, 90)\n",
      "good_zeros_per_eo_spectrum = (0, 2)\n",
      "suspect_zeros_per_eo_spectrum = (0, 8)\n",
      "auto_power_good = (5.0, 30.0)\n",
      "auto_power_suspect = (1.0, 60.0)\n",
      "auto_slope_good = (-0.4, 0.4)\n",
      "auto_slope_suspect = (-0.6, 0.6)\n",
      "auto_rfi_good = (0, 1.5)\n",
      "auto_rfi_suspect = (0, 2.0)\n",
      "auto_shape_good = (0, 0.1)\n",
      "auto_shape_suspect = (0, 0.2)\n",
      "bad_xengine_zcut = 10.0\n",
      "oc_cspa_good = (0, 2.0)\n",
      "oc_cspa_suspect = (0, 3.0)\n"
     ]
    }
   ],
   "source": [
    "# ant_metrics bounds for low correlation / dead antennas\n",
    "am_corr_bad = (0, float(os.environ.get(\"AM_CORR_BAD\", 0.3)))\n",
    "am_corr_suspect = (float(os.environ.get(\"AM_CORR_BAD\", 0.3)), float(os.environ.get(\"AM_CORR_SUSPECT\", 0.5)))\n",
    "\n",
    "# ant_metrics bounds for cross-polarized antennas\n",
    "am_xpol_bad = (-1, float(os.environ.get(\"AM_XPOL_BAD\", -0.1)))\n",
    "am_xpol_suspect = (float(os.environ.get(\"AM_XPOL_BAD\", -0.1)), float(os.environ.get(\"AM_XPOL_SUSPECT\", 0)))\n",
    "\n",
    "# bounds on solar altitude (in degrees)\n",
    "good_solar_altitude = (-90, float(os.environ.get(\"SUSPECT_SOLAR_ALTITUDE\", 0)))\n",
    "suspect_solar_altitude = (float(os.environ.get(\"SUSPECT_SOLAR_ALTITUDE\", 0)), 90)\n",
    "\n",
    "# bounds on zeros in spectra\n",
    "good_zeros_per_eo_spectrum = (0, int(os.environ.get(\"MAX_ZEROS_PER_EO_SPEC_GOOD\", 2)))\n",
    "suspect_zeros_per_eo_spectrum = (0, int(os.environ.get(\"MAX_ZEROS_PER_EO_SPEC_SUSPECT\", 8)))\n",
    "\n",
    "# bounds on autocorrelation power\n",
    "auto_power_good = (float(os.environ.get(\"AUTO_POWER_GOOD_LOW\", 5)), float(os.environ.get(\"AUTO_POWER_GOOD_HIGH\", 30)))\n",
    "auto_power_suspect = (float(os.environ.get(\"AUTO_POWER_SUSPECT_LOW\", 1)), float(os.environ.get(\"AUTO_POWER_SUSPECT_HIGH\", 60)))\n",
    "\n",
    "# bounds on autocorrelation slope\n",
    "auto_slope_good = (float(os.environ.get(\"AUTO_SLOPE_GOOD_LOW\", -0.4)), float(os.environ.get(\"AUTO_SLOPE_GOOD_HIGH\", 0.4)))\n",
    "auto_slope_suspect = (float(os.environ.get(\"AUTO_SLOPE_SUSPECT_LOW\", -0.6)), float(os.environ.get(\"AUTO_SLOPE_SUSPECT_HIGH\", 0.6)))\n",
    "\n",
    "# bounds on autocorrelation RFI\n",
    "auto_rfi_good = (0, float(os.environ.get(\"AUTO_RFI_GOOD\", 1.5)))\n",
    "auto_rfi_suspect = (0, float(os.environ.get(\"AUTO_RFI_SUSPECT\", 2)))\n",
    "\n",
    "# bounds on autocorrelation shape\n",
    "auto_shape_good = (0, float(os.environ.get(\"AUTO_SHAPE_GOOD\", 0.1)))\n",
    "auto_shape_suspect = (0, float(os.environ.get(\"AUTO_SHAPE_SUSPECT\", 0.2)))\n",
    "\n",
    "# bound on per-xengine non-noiselike power in diff\n",
    "bad_xengine_zcut = float(os.environ.get(\"BAD_XENGINE_ZCUT\", 10.0))\n",
    "\n",
    "# bounds on chi^2 per antenna in omnical\n",
    "oc_cspa_good = (0, float(os.environ.get(\"OC_CSPA_GOOD\", 2)))\n",
    "oc_cspa_suspect = (0, float(os.environ.get(\"OC_CSPA_SUSPECT\", 3)))\n",
    "\n",
    "# print bounds\n",
    "for bound in ['am_corr_bad', 'am_corr_suspect', 'am_xpol_bad', 'am_xpol_suspect', \n",
    "              'good_solar_altitude', 'suspect_solar_altitude',\n",
    "              'good_zeros_per_eo_spectrum', 'suspect_zeros_per_eo_spectrum',\n",
    "              'auto_power_good', 'auto_power_suspect', 'auto_slope_good', 'auto_slope_suspect',\n",
    "              'auto_rfi_good', 'auto_rfi_suspect', 'auto_shape_good', 'auto_shape_suspect',\n",
    "              'bad_xengine_zcut', 'oc_cspa_good', 'oc_cspa_suspect']:\n",
    "    print(f'{bound} = {eval(bound)}')"
   ]
  },
  {
   "cell_type": "markdown",
   "id": "105dc915",
   "metadata": {},
   "source": [
    "## Load sum and diff data"
   ]
  },
  {
   "cell_type": "code",
   "execution_count": 8,
   "id": "e5d3725b",
   "metadata": {},
   "outputs": [
    {
     "name": "stdout",
     "output_type": "stream",
     "text": [
      "Finished loading data in 0.01 minutes.\n"
     ]
    }
   ],
   "source": [
    "read_start = time.time()\n",
    "hd = io.HERADataFastReader(SUM_FILE)\n",
    "data, _, _ = hd.read(read_flags=False, read_nsamples=False)\n",
    "#hd_diff = io.HERADataFastReader(DIFF_FILE)\n",
    "#diff_data, _, _ = hd_diff.read(read_flags=False, read_nsamples=False, dtype=np.complex64, fix_autos_func=np.real)\n",
    "print(f'Finished loading data in {(time.time() - read_start) / 60:.2f} minutes.')"
   ]
  },
  {
   "cell_type": "code",
   "execution_count": 15,
   "id": "61f26bc2",
   "metadata": {},
   "outputs": [],
   "source": [
    "ants = sorted(set([ant for bl in hd.bls for ant in utils.split_bl(bl)]))\n",
    "auto_bls = [bl for bl in data if (bl[0] == bl[1]) and (utils.split_pol(bl[2])[0] == utils.split_pol(bl[2])[1])]\n",
    "antpols = sorted(set([ant[1] for ant in ants]))"
   ]
  },
  {
   "cell_type": "code",
   "execution_count": 14,
   "id": "e945a0ec",
   "metadata": {},
   "outputs": [
    {
     "name": "stdout",
     "output_type": "stream",
     "text": [
      "File: /safepool/rbyrne/hera_data/H6C-data/2459861/zen.2459861.45004.sum.abs_calibrated.red_avg.uvh5\n",
      "JDs: [2459861.44998783 2459861.45009967] (9.66368 s integrations)\n",
      "LSTS: [1.39788835 1.40058006] hours\n",
      "Frequencies: 1536 0.12207 MHz channels from 46.92078 to 234.29871 MHz\n",
      "Antennas: 172\n",
      "Polarizations: ['nn', 'ee']\n"
     ]
    }
   ],
   "source": [
    "# print basic information about the file\n",
    "print(f'File: {SUM_FILE}')\n",
    "print(f'JDs: {hd.times} ({np.median(np.diff(hd.times)) * 24 * 3600:.5f} s integrations)')\n",
    "print(f'LSTS: {hd.lsts * 12 / np.pi } hours')\n",
    "print(f'Frequencies: {len(hd.freqs)} {np.median(np.diff(hd.freqs)) / 1e6:.5f} MHz channels from {hd.freqs[0] / 1e6:.5f} to {hd.freqs[-1] / 1e6:.5f} MHz')\n",
    "print(f'Antennas: {len(hd.data_ants)}')\n",
    "print(f'Polarizations: {hd.pols}')"
   ]
  },
  {
   "cell_type": "markdown",
   "id": "39affb12",
   "metadata": {},
   "source": [
    "## Classify good, suspect, and bad antpols"
   ]
  },
  {
   "cell_type": "markdown",
   "id": "f0450fb4",
   "metadata": {},
   "source": [
    "### Run `ant_metrics`\n",
    "\n",
    "This classifies antennas as cross-polarized, low-correlation, or dead. Such antennas are excluded from any calibration."
   ]
  },
  {
   "cell_type": "code",
   "execution_count": 15,
   "id": "4bbb0ac4",
   "metadata": {},
   "outputs": [
    {
     "ename": "NameError",
     "evalue": "name 'diff_data' is not defined",
     "output_type": "error",
     "traceback": [
      "\u001b[0;31m---------------------------------------------------------------------------\u001b[0m",
      "\u001b[0;31mNameError\u001b[0m                                 Traceback (most recent call last)",
      "Cell \u001b[0;32mIn[15], line 1\u001b[0m\n\u001b[0;32m----> 1\u001b[0m am \u001b[38;5;241m=\u001b[39m ant_metrics\u001b[38;5;241m.\u001b[39mAntennaMetrics(SUM_FILE, DIFF_FILE, sum_data\u001b[38;5;241m=\u001b[39mdata, diff_data\u001b[38;5;241m=\u001b[39m\u001b[43mdiff_data\u001b[49m)\n\u001b[1;32m      2\u001b[0m am\u001b[38;5;241m.\u001b[39miterative_antenna_metrics_and_flagging(crossCut\u001b[38;5;241m=\u001b[39mam_xpol_bad[\u001b[38;5;241m1\u001b[39m], deadCut\u001b[38;5;241m=\u001b[39mam_corr_bad[\u001b[38;5;241m1\u001b[39m])\n\u001b[1;32m      3\u001b[0m am\u001b[38;5;241m.\u001b[39mall_metrics \u001b[38;5;241m=\u001b[39m {}  \u001b[38;5;66;03m# this saves time and disk by getting rid of per-iteration information we never use\u001b[39;00m\n",
      "\u001b[0;31mNameError\u001b[0m: name 'diff_data' is not defined"
     ]
    }
   ],
   "source": [
    "am = ant_metrics.AntennaMetrics(SUM_FILE, DIFF_FILE, sum_data=data, diff_data=diff_data)\n",
    "am.iterative_antenna_metrics_and_flagging(crossCut=am_xpol_bad[1], deadCut=am_corr_bad[1])\n",
    "am.all_metrics = {}  # this saves time and disk by getting rid of per-iteration information we never use\n",
    "if SAVE_RESULTS:\n",
    "    am.save_antenna_metrics(AM_FILE, overwrite=True)"
   ]
  },
  {
   "cell_type": "code",
   "execution_count": null,
   "id": "d8e52c30",
   "metadata": {
    "code_folding": []
   },
   "outputs": [],
   "source": [
    "# Turn ant metrics into classifications\n",
    "totally_dead_ants = [ant for ant, i in am.xants.items() if i == -1]\n",
    "am_totally_dead = ant_class.AntennaClassification(good=[ant for ant in ants if ant not in totally_dead_ants], bad=totally_dead_ants)\n",
    "am_corr = ant_class.antenna_bounds_checker(am.final_metrics['corr'], bad=[am_corr_bad], suspect=[am_corr_suspect], good=[(0, 1)])\n",
    "am_xpol = ant_class.antenna_bounds_checker(am.final_metrics['corrXPol'], bad=[am_xpol_bad], suspect=[am_xpol_suspect], good=[(-1, 1)])\n",
    "ant_metrics_class = am_totally_dead + am_corr + am_xpol\n",
    "if np.all([ant_metrics_class[utils.split_bl(bl)[0]] == 'bad' for bl in auto_bls]):\n",
    "    raise ValueError('All antennas are flagged for ant_metrics.')"
   ]
  },
  {
   "cell_type": "markdown",
   "id": "b294c33b",
   "metadata": {},
   "source": [
    "### Mark sun-up (or high solar altitude) data as suspect"
   ]
  },
  {
   "cell_type": "code",
   "execution_count": 16,
   "id": "8bc848be",
   "metadata": {},
   "outputs": [],
   "source": [
    "min_sun_alt = np.min(utils.get_sun_alt(hd.times))\n",
    "solar_class = ant_class.antenna_bounds_checker({ant: min_sun_alt for ant in ants}, good=[good_solar_altitude], suspect=[suspect_solar_altitude])"
   ]
  },
  {
   "cell_type": "markdown",
   "id": "dcdb63f8",
   "metadata": {},
   "source": [
    "### Classify antennas responsible for 0s in visibilities as bad: \n",
    "\n",
    "This classifier looks for X-engine failure or packet loss specific to an antenna which causes either the even visibilities (or the odd ones, or both) to be 0s. "
   ]
  },
  {
   "cell_type": "code",
   "execution_count": 17,
   "id": "e64ed530",
   "metadata": {},
   "outputs": [
    {
     "ename": "NameError",
     "evalue": "name 'diff_data' is not defined",
     "output_type": "error",
     "traceback": [
      "\u001b[0;31m---------------------------------------------------------------------------\u001b[0m",
      "\u001b[0;31mNameError\u001b[0m                                 Traceback (most recent call last)",
      "Cell \u001b[0;32mIn[17], line 1\u001b[0m\n\u001b[0;32m----> 1\u001b[0m zeros_class \u001b[38;5;241m=\u001b[39m ant_class\u001b[38;5;241m.\u001b[39meven_odd_zeros_checker(data, \u001b[43mdiff_data\u001b[49m, good\u001b[38;5;241m=\u001b[39mgood_zeros_per_eo_spectrum, suspect\u001b[38;5;241m=\u001b[39msuspect_zeros_per_eo_spectrum)\n\u001b[1;32m      2\u001b[0m \u001b[38;5;28;01mif\u001b[39;00m np\u001b[38;5;241m.\u001b[39mall([zeros_class[utils\u001b[38;5;241m.\u001b[39msplit_bl(bl)[\u001b[38;5;241m0\u001b[39m]] \u001b[38;5;241m==\u001b[39m \u001b[38;5;124m'\u001b[39m\u001b[38;5;124mbad\u001b[39m\u001b[38;5;124m'\u001b[39m \u001b[38;5;28;01mfor\u001b[39;00m bl \u001b[38;5;129;01min\u001b[39;00m auto_bls]):\n\u001b[1;32m      3\u001b[0m     \u001b[38;5;28;01mraise\u001b[39;00m \u001b[38;5;167;01mValueError\u001b[39;00m(\u001b[38;5;124m'\u001b[39m\u001b[38;5;124mAll antennas are flagged for too many even/odd zeros.\u001b[39m\u001b[38;5;124m'\u001b[39m)\n",
      "\u001b[0;31mNameError\u001b[0m: name 'diff_data' is not defined"
     ]
    }
   ],
   "source": [
    "zeros_class = ant_class.even_odd_zeros_checker(data, diff_data, good=good_zeros_per_eo_spectrum, suspect=suspect_zeros_per_eo_spectrum)\n",
    "if np.all([zeros_class[utils.split_bl(bl)[0]] == 'bad' for bl in auto_bls]):\n",
    "    raise ValueError('All antennas are flagged for too many even/odd zeros.')"
   ]
  },
  {
   "cell_type": "markdown",
   "id": "102587ce",
   "metadata": {},
   "source": [
    "### Examine and classify autocorrelation power and slope\n",
    "\n",
    "These classifiers look for antennas with too high or low power or to steep a slope."
   ]
  },
  {
   "cell_type": "code",
   "execution_count": 18,
   "id": "ba1b4d4f-633e-46a8-a6f9-b7d600845ae0",
   "metadata": {},
   "outputs": [
    {
     "ename": "ValueError",
     "evalue": "All antennas are flagged for bad autocorrelation power/slope.",
     "output_type": "error",
     "traceback": [
      "\u001b[0;31m---------------------------------------------------------------------------\u001b[0m",
      "\u001b[0;31mValueError\u001b[0m                                Traceback (most recent call last)",
      "Cell \u001b[0;32mIn[18], line 4\u001b[0m\n\u001b[1;32m      2\u001b[0m auto_slope_class \u001b[38;5;241m=\u001b[39m ant_class\u001b[38;5;241m.\u001b[39mauto_slope_checker(data, good\u001b[38;5;241m=\u001b[39mauto_slope_good, suspect\u001b[38;5;241m=\u001b[39mauto_slope_suspect, edge_cut\u001b[38;5;241m=\u001b[39m\u001b[38;5;241m100\u001b[39m, filt_size\u001b[38;5;241m=\u001b[39m\u001b[38;5;241m17\u001b[39m)\n\u001b[1;32m      3\u001b[0m \u001b[38;5;28;01mif\u001b[39;00m np\u001b[38;5;241m.\u001b[39mall([(auto_power_class \u001b[38;5;241m+\u001b[39m auto_slope_class)[utils\u001b[38;5;241m.\u001b[39msplit_bl(bl)[\u001b[38;5;241m0\u001b[39m]] \u001b[38;5;241m==\u001b[39m \u001b[38;5;124m'\u001b[39m\u001b[38;5;124mbad\u001b[39m\u001b[38;5;124m'\u001b[39m \u001b[38;5;28;01mfor\u001b[39;00m bl \u001b[38;5;129;01min\u001b[39;00m auto_bls]):\n\u001b[0;32m----> 4\u001b[0m     \u001b[38;5;28;01mraise\u001b[39;00m \u001b[38;5;167;01mValueError\u001b[39;00m(\u001b[38;5;124m'\u001b[39m\u001b[38;5;124mAll antennas are flagged for bad autocorrelation power/slope.\u001b[39m\u001b[38;5;124m'\u001b[39m)\n\u001b[1;32m      5\u001b[0m overall_class \u001b[38;5;241m=\u001b[39m auto_power_class \u001b[38;5;241m+\u001b[39m auto_slope_class \u001b[38;5;241m+\u001b[39m zeros_class \u001b[38;5;241m+\u001b[39m ant_metrics_class \u001b[38;5;241m+\u001b[39m solar_class\n",
      "\u001b[0;31mValueError\u001b[0m: All antennas are flagged for bad autocorrelation power/slope."
     ]
    }
   ],
   "source": [
    "auto_power_class = ant_class.auto_power_checker(data, good=auto_power_good, suspect=auto_power_suspect)\n",
    "auto_slope_class = ant_class.auto_slope_checker(data, good=auto_slope_good, suspect=auto_slope_suspect, edge_cut=100, filt_size=17)\n",
    "if np.all([(auto_power_class + auto_slope_class)[utils.split_bl(bl)[0]] == 'bad' for bl in auto_bls]):\n",
    "    raise ValueError('All antennas are flagged for bad autocorrelation power/slope.')\n",
    "overall_class = auto_power_class + auto_slope_class + zeros_class + ant_metrics_class + solar_class"
   ]
  },
  {
   "cell_type": "markdown",
   "id": "0f9ab869-1f9c-41f0-9bd7-692a19fefe53",
   "metadata": {
    "execution": {
     "iopub.execute_input": "2024-05-25T17:32:20.049398Z",
     "iopub.status.busy": "2024-05-25T17:32:20.048811Z",
     "iopub.status.idle": "2024-05-25T17:32:20.055393Z",
     "shell.execute_reply": "2024-05-25T17:32:20.054519Z",
     "shell.execute_reply.started": "2024-05-25T17:32:20.049351Z"
    }
   },
   "source": [
    "### Find starting set of array flags"
   ]
  },
  {
   "cell_type": "code",
   "execution_count": null,
   "id": "3252ed36-41e8-4309-be23-80aeb8b0c234",
   "metadata": {},
   "outputs": [],
   "source": [
    "antenna_flags, array_flags = xrfi.flag_autos(data, flag_method=\"channel_diff_flagger\", nsig=RFI_NSIG * 5, \n",
    "                                             antenna_class=overall_class, flag_broadcast_thresh=.5)\n",
    "for key in antenna_flags:\n",
    "    antenna_flags[key] = array_flags\n",
    "cache = {}\n",
    "_, array_flags = xrfi.flag_autos(data, freqs=data.freqs, flag_method=\"dpss_flagger\",\n",
    "                                 nsig=RFI_NSIG, antenna_class=overall_class,\n",
    "                                 filter_centers=[0], filter_half_widths=[RFI_DPSS_HALFWIDTH],\n",
    "                                 eigenval_cutoff=[1e-9], flags=antenna_flags, mode='dpss_matrix', \n",
    "                                 cache=cache, flag_broadcast_thresh=.5)"
   ]
  },
  {
   "cell_type": "markdown",
   "id": "a9c9fb65-5e72-459c-a8f9-166a01529e3f",
   "metadata": {},
   "source": [
    "### Classify antennas based on non-noiselike diffs"
   ]
  },
  {
   "cell_type": "code",
   "execution_count": null,
   "id": "d56797cd",
   "metadata": {},
   "outputs": [],
   "source": [
    "xengine_diff_class = ant_class.non_noiselike_diff_by_xengine_checker(data, diff_data, flag_waterfall=array_flags, \n",
    "                                                                     antenna_class=overall_class, \n",
    "                                                                     xengine_chans=96, bad_xengine_zcut=bad_xengine_zcut)\n",
    "overall_class += xengine_diff_class\n",
    "if np.all([overall_class[utils.split_bl(bl)[0]] == 'bad' for bl in auto_bls]):\n",
    "    raise ValueError('All antennas are flagged after flagging non-noiselike diffs.')"
   ]
  },
  {
   "cell_type": "markdown",
   "id": "fd79bfe5-8ca6-4d6d-87ff-740e4c3fa517",
   "metadata": {},
   "source": [
    "### Examine and classify autocorrelation excess RFI and shape, finding consensus RFI mask along the way\n",
    "\n",
    "This classifier iteratively identifies antennas for excess RFI (characterized by RMS of DPSS-filtered autocorrelations after RFI flagging) and bad shape, as determined by a discrepancy with the mean good normalized autocorrelation's shape. Along the way, it iteratively discovers a conensus array-wide RFI mask."
   ]
  },
  {
   "cell_type": "code",
   "execution_count": null,
   "id": "6fdc4209-6fe0-4cb7-8564-dda570adecdf",
   "metadata": {},
   "outputs": [],
   "source": [
    "def auto_bl_zscores(data, flag_array, cache={}):\n",
    "    '''This function computes z-score arrays for each delay-filtered autocorrelation, normalized by the expected noise. \n",
    "    Flagged times/channels for the whole array are given 0 weight in filtering and are np.nan in the z-score.'''\n",
    "    zscores = {}\n",
    "    for bl in auto_bls:\n",
    "        wgts = np.array(np.logical_not(flag_array), dtype=np.float64)\n",
    "        model, _, _ = dspec.fourier_filter(hd.freqs, data[bl], wgts, filter_centers=[0], filter_half_widths=[RFI_DPSS_HALFWIDTH], mode='dpss_solve',\n",
    "                                            suppression_factors=[1e-9], eigenval_cutoff=[1e-9], cache=cache)\n",
    "        res = data[bl] - model\n",
    "        int_time = 24 * 3600 * np.median(np.diff(data.times))\n",
    "        chan_res = np.median(np.diff(data.freqs))\n",
    "        int_count = int(int_time * chan_res)\n",
    "        sigma = np.abs(model) / np.sqrt(int_count / 2)\n",
    "        zscores[bl] = res / sigma    \n",
    "        zscores[bl][flag_array] = np.nan\n",
    "\n",
    "    return zscores"
   ]
  },
  {
   "cell_type": "code",
   "execution_count": null,
   "id": "4d7f374a-8936-43b2-b521-cc68a256a932",
   "metadata": {},
   "outputs": [],
   "source": [
    "def rfi_from_avg_autos(data, auto_bls_to_use, prior_flags=None, nsig=RFI_NSIG):\n",
    "    '''Average together all baselines in auto_bls_to_use, then find an RFI mask by looking for outliers after DPSS filtering.'''\n",
    "    \n",
    "    # Compute int_count for all unflagged autocorrelations averaged together\n",
    "    int_time = 24 * 3600 * np.median(np.diff(data.times_by_bl[auto_bls[0][0:2]]))\n",
    "    chan_res = np.median(np.diff(data.freqs))\n",
    "    int_count = int(int_time * chan_res) * len(auto_bls_to_use)\n",
    "    avg_auto = {(-1, -1, 'ee'): np.mean([data[bl] for bl in auto_bls_to_use], axis=0)}\n",
    "    \n",
    "    # Flag RFI first with channel differences and then with DPSS\n",
    "    antenna_flags, _ = xrfi.flag_autos(avg_auto, int_count=int_count, nsig=(nsig * 5))\n",
    "    if prior_flags is not None:\n",
    "        antenna_flags[(-1, -1, 'ee')] = prior_flags\n",
    "    _, rfi_flags = xrfi.flag_autos(avg_auto, int_count=int_count, flag_method='dpss_flagger',\n",
    "                                   flags=antenna_flags, freqs=data.freqs, filter_centers=[0],\n",
    "                                   filter_half_widths=[RFI_DPSS_HALFWIDTH], eigenval_cutoff=[1e-9], nsig=nsig)\n",
    "\n",
    "    return rfi_flags"
   ]
  },
  {
   "cell_type": "code",
   "execution_count": null,
   "id": "75531f17-befd-41f1-aaf5-20ee2a18cacb",
   "metadata": {},
   "outputs": [],
   "source": [
    "# Iteratively develop RFI mask, excess RFI classification, and autocorrelation shape classification\n",
    "stage = 1\n",
    "rfi_flags = np.array(array_flags)\n",
    "prior_end_states = set()\n",
    "while True:\n",
    "    # compute DPSS-filtered z-scores with current array-wide RFI mask\n",
    "    zscores = auto_bl_zscores(data, rfi_flags)\n",
    "    rms = {bl: np.nanmean(zscores[bl]**2)**.5 if np.any(np.isfinite(zscores[bl])) else np.inf for bl in zscores}\n",
    "    \n",
    "    # figure out which autos to use for finding new set of flags\n",
    "    candidate_autos = [bl for bl in auto_bls if overall_class[utils.split_bl(bl)[0]] != 'bad']\n",
    "    if stage == 1:\n",
    "        # use best half of the unflagged antennas\n",
    "        med_rms = np.nanmedian([rms[bl] for bl in candidate_autos])\n",
    "        autos_to_use = [bl for bl in candidate_autos if rms[bl] <= med_rms]\n",
    "    elif stage == 2:\n",
    "        # use all unflagged antennas which are auto RFI good, or the best half, whichever is larger\n",
    "        med_rms = np.nanmedian([rms[bl] for bl in candidate_autos])\n",
    "        best_half_autos = [bl for bl in candidate_autos if rms[bl] <= med_rms]\n",
    "        good_autos = [bl for bl in candidate_autos if (overall_class[utils.split_bl(bl)[0]] != 'bad')\n",
    "                      and (auto_rfi_class[utils.split_bl(bl)[0]] == 'good')]\n",
    "        autos_to_use = (best_half_autos if len(best_half_autos) > len(good_autos) else good_autos)\n",
    "    elif stage == 3:\n",
    "        # use all unflagged antennas which are auto RFI good or suspect\n",
    "        autos_to_use = [bl for bl in candidate_autos if (overall_class[utils.split_bl(bl)[0]] != 'bad')]\n",
    "\n",
    "    # compute new RFI flags\n",
    "    rfi_flags = rfi_from_avg_autos(data, autos_to_use)\n",
    "\n",
    "    # perform auto shape and RFI classification\n",
    "    overall_class = auto_power_class + auto_slope_class + zeros_class + ant_metrics_class + solar_class + xengine_diff_class\n",
    "    auto_rfi_class = ant_class.antenna_bounds_checker(rms, good=auto_rfi_good, suspect=auto_rfi_suspect, bad=(0, np.inf))\n",
    "    overall_class += auto_rfi_class\n",
    "    auto_shape_class = ant_class.auto_shape_checker(data, good=auto_shape_good, suspect=auto_shape_suspect,\n",
    "                                                    flag_spectrum=np.sum(rfi_flags, axis=0).astype(bool), \n",
    "                                                    antenna_class=overall_class)\n",
    "    overall_class += auto_shape_class\n",
    "    \n",
    "    # check for convergence by seeing whether we've previously gotten to this number of flagged antennas and channels\n",
    "    if stage == 3:\n",
    "        if (len(overall_class.bad_ants), np.sum(rfi_flags)) in prior_end_states:\n",
    "            break\n",
    "        prior_end_states.add((len(overall_class.bad_ants), np.sum(rfi_flags)))\n",
    "    else:\n",
    "        stage += 1"
   ]
  },
  {
   "cell_type": "code",
   "execution_count": null,
   "id": "1b3f992f-402b-4fb8-aac9-4e82149cb4ad",
   "metadata": {},
   "outputs": [],
   "source": [
    "auto_class = auto_power_class + auto_slope_class + auto_rfi_class + auto_shape_class\n",
    "if np.all([overall_class[utils.split_bl(bl)[0]] == 'bad' for bl in auto_bls]):\n",
    "    raise ValueError('All antennas are flagged after flagging for bad autos power/slope/rfi/shape.')"
   ]
  },
  {
   "cell_type": "code",
   "execution_count": null,
   "id": "b2e3af97-94bc-4ed1-abb4-1fbf03ab1b0d",
   "metadata": {},
   "outputs": [],
   "source": [
    "def rfi_plot(cls, flags=rfi_flags):\n",
    "    avg_auto = {(-1, -1, 'ee'): np.mean([data[bl] for bl in auto_bls if not cls[utils.split_bl(bl)[0]] == 'bad'], axis=0)}\n",
    "    plt.figure(figsize=(12, 5), dpi=100)\n",
    "    plt.semilogy(hd.freqs / 1e6, np.where(flags, np.nan, avg_auto[(-1, -1, 'ee')])[0], label = 'Average Good or Suspect Autocorrelation', zorder=100)\n",
    "    plt.semilogy(hd.freqs / 1e6, np.where(False, np.nan, avg_auto[(-1, -1, 'ee')])[0], 'r', lw=.5, label=f'{np.sum(flags[0])} Channels Flagged for RFI')\n",
    "    plt.legend()\n",
    "    plt.xlabel('Frequency (MHz)')\n",
    "    plt.ylabel('Uncalibrated Autocorrelation')\n",
    "    plt.tight_layout()"
   ]
  },
  {
   "cell_type": "markdown",
   "id": "c19a15a3-c06c-46ca-ac91-5c52d1bd40a4",
   "metadata": {},
   "source": [
    "# *Figure 1: RFI Flagging*\n",
    "\n",
    "This figure shows RFI identified using the average of all autocorrelations---excluding bad antennas---for the first integration in the file. "
   ]
  },
  {
   "cell_type": "code",
   "execution_count": null,
   "id": "b8cb0514-058e-4e8b-ac5a-753f8dfc1d01",
   "metadata": {},
   "outputs": [],
   "source": [
    "if PLOT: rfi_plot(overall_class)"
   ]
  },
  {
   "cell_type": "code",
   "execution_count": null,
   "id": "5d4c8e7c-5b83-4203-a733-0f799ab2ef0e",
   "metadata": {},
   "outputs": [],
   "source": [
    "def autocorr_plot(cls):    \n",
    "    fig, axes = plt.subplots(1, 2, figsize=(14, 5), dpi=100, sharey=True, gridspec_kw={'wspace': 0})\n",
    "    labels = []\n",
    "    colors = ['darkgreen', 'goldenrod', 'maroon']\n",
    "    for ax, pol in zip(axes, antpols):\n",
    "        for ant in cls.ants:\n",
    "            if ant[1] == pol:\n",
    "                color = colors[cls.quality_classes.index(cls[ant])]\n",
    "                ax.semilogy(np.mean(data[utils.join_bl(ant, ant)], axis=0), color=color, lw=.5)\n",
    "        ax.set_xlabel('Channel', fontsize=12)\n",
    "        ax.set_title(f'{utils.join_pol(pol, pol)}-Polarized Autos')\n",
    "\n",
    "    axes[0].set_ylabel('Raw Autocorrelation', fontsize=12)\n",
    "    axes[1].legend([matplotlib.lines.Line2D([0], [0], color=color) for color in colors], \n",
    "                   [cl.capitalize() for cl in cls.quality_classes], ncol=1, fontsize=12, loc='upper right', framealpha=1)\n",
    "    plt.tight_layout()"
   ]
  },
  {
   "cell_type": "markdown",
   "id": "5066f32a-5831-4dce-be8a-b28fad7584dc",
   "metadata": {},
   "source": [
    "# *Figure 2: Plot of autocorrelations with classifications*\n",
    "This figure shows a plot of all autocorrelations in the array, split by polarization. \n",
    "Antennas are classified based on their autocorrelations into good, suspect, and bad, by examining power, slope, and RFI-occupancy. "
   ]
  },
  {
   "cell_type": "code",
   "execution_count": null,
   "id": "18726df1-c6cd-48cd-b764-b82cbfa8372a",
   "metadata": {},
   "outputs": [],
   "source": [
    "if PLOT: autocorr_plot(auto_class)"
   ]
  },
  {
   "cell_type": "markdown",
   "id": "b8d42f45",
   "metadata": {},
   "source": [
    "### Summarize antenna classification prior to redundant-baseline calibration"
   ]
  },
  {
   "cell_type": "code",
   "execution_count": null,
   "id": "afd5cdcc",
   "metadata": {
    "code_folding": []
   },
   "outputs": [],
   "source": [
    "def array_class_plot(cls, extra_label=\"\"):\n",
    "    outriggers = [ant for ant in hd.data_ants if ant >= 320]\n",
    "\n",
    "    if len(outriggers) > 0:\n",
    "        fig, axes = plt.subplots(1, 2, figsize=(14, 6), dpi=100, gridspec_kw={'width_ratios': [2, 1]})\n",
    "        plot_antclass(hd.antpos, cls, ax=axes[0], ants=[ant for ant in hd.data_ants if ant < 320], legend=False, title=f'HERA Core{extra_label}')\n",
    "        plot_antclass(hd.antpos, cls, ax=axes[1], ants=outriggers, radius=50, title='Outriggers')\n",
    "    else:\n",
    "        fig, axes = plt.subplots(1, 1, figsize=(9, 6), dpi=100)\n",
    "        plot_antclass(hd.antpos, cls, ax=axes, ants=[ant for ant in hd.data_ants if ant < 320], legend=False, title=f'HERA Core{extra_label}')"
   ]
  },
  {
   "cell_type": "markdown",
   "id": "67427bcf",
   "metadata": {},
   "source": [
    "# *Figure 3: Summary of antenna classifications prior to calibration*\n",
    "This figure shows the location and classification of all antennas prior to calibration. \n",
    "Antennas are split along the diagonal, with ee-polarized antpols represented by the southeast half of each antenna and nn-polarized antpols represented by the northwest half.\n",
    "Outriggers are split from the core and shown at exaggerated size in the right-hand panel. This classification includes `ant_metrics`, a count of the zeros in the even or odd visibilities, and autocorrelation power, slope, and RFI occupancy.\n",
    "An antenna classified as bad in *any* classification will be considered bad. \n",
    "An antenna marked as suspect *any* in any classification will be considered suspect unless it is also classified as bad elsewhere."
   ]
  },
  {
   "cell_type": "code",
   "execution_count": null,
   "id": "19b7e8fa",
   "metadata": {},
   "outputs": [],
   "source": [
    "if PLOT: array_class_plot(overall_class)"
   ]
  },
  {
   "cell_type": "code",
   "execution_count": null,
   "id": "f232cc87",
   "metadata": {},
   "outputs": [],
   "source": [
    "# delete diffs to save memory\n",
    "del diff_data, hd_diff, cache\n",
    "malloc_trim()"
   ]
  },
  {
   "cell_type": "markdown",
   "id": "1e4fdac2",
   "metadata": {},
   "source": [
    "## Perform redundant-baseline calibration"
   ]
  },
  {
   "cell_type": "code",
   "execution_count": 9,
   "id": "10581f05",
   "metadata": {},
   "outputs": [],
   "source": [
    "def classify_off_grid(reds, all_ants):\n",
    "    '''Returns AntennaClassification of all_ants where good ants are in reds while bad ants are not.'''\n",
    "    ants_in_reds = set([ant for red in reds for bl in red for ant in utils.split_bl(bl)])\n",
    "    on_grid = [ant for ant in all_ants if ant in ants_in_reds]\n",
    "    off_grid = [ant for ant in all_ants if ant not in ants_in_reds]\n",
    "    return ant_class.AntennaClassification(good=on_grid, bad=off_grid)"
   ]
  },
  {
   "cell_type": "code",
   "execution_count": 10,
   "id": "cc9e1f8b",
   "metadata": {},
   "outputs": [],
   "source": [
    "def per_pol_filter_reds(reds, pols=['nn', 'ee'], **kwargs):\n",
    "    '''Performs redcal filtering separately on polarizations (which might have different min_dim_size issues).'''\n",
    "    return [red for pol in pols for red in redcal.filter_reds(copy.deepcopy(reds), pols=[pol], **kwargs)]"
   ]
  },
  {
   "cell_type": "code",
   "execution_count": 11,
   "id": "a908bc0a",
   "metadata": {},
   "outputs": [],
   "source": [
    "def check_if_whole_pol_flagged(redcal_class, pols=['Jee', 'Jnn']):\n",
    "    '''Checks if an entire polarization is flagged. If it is, returns True and marks all antennas as bad in redcal_class.'''\n",
    "    if np.logical_or(*[np.all([redcal_class[ant] == 'bad' for ant in redcal_class.ants if ant[1] == pol]) for pol in pols]):\n",
    "        print('An entire polarization has been flagged. Stopping redcal.')\n",
    "        for ant in redcal_class:\n",
    "            redcal_class[ant] = 'bad'\n",
    "        return True\n",
    "    return False"
   ]
  },
  {
   "cell_type": "code",
   "execution_count": 12,
   "id": "5d82c557",
   "metadata": {},
   "outputs": [],
   "source": [
    "def recheck_chisq(cspa, sol, cutoff, avg_alg):\n",
    "    '''Recompute chisq per ant without apparently bad antennas to see if any antennas get better.'''\n",
    "    avg_cspa = {ant: avg_alg(np.where(rfi_flags, np.nan, cspa[ant])) for ant in cspa}\n",
    "    sol2 = redcal.RedSol(sol.reds, gains={ant: sol[ant] for ant in avg_cspa if avg_cspa[ant] <= cutoff}, vis=sol.vis)\n",
    "    new_chisq_per_ant = {ant: np.array(cspa[ant]) for ant in sol2.gains}\n",
    "    if len(set([bl[2] for red in per_pol_filter_reds(sol2.reds, ants=sol2.gains.keys(), antpos=hd.data_antpos, **fr_settings) for bl in red])) >= 2:\n",
    "        redcal.expand_omni_gains(sol2, sol2.reds, data, chisq_per_ant=new_chisq_per_ant)\n",
    "    for ant in avg_cspa:\n",
    "        if ant in new_chisq_per_ant:\n",
    "            if np.any(np.isfinite(new_chisq_per_ant[ant])):\n",
    "                if not np.all(np.isclose(new_chisq_per_ant[ant], 0)):\n",
    "                    new_avg_cspa = avg_alg(np.where(rfi_flags, np.nan, cspa[ant]))\n",
    "                    if new_avg_cspa > 0:\n",
    "                        avg_cspa[ant] = np.min([avg_cspa[ant], new_avg_cspa])\n",
    "    return avg_cspa"
   ]
  },
  {
   "cell_type": "markdown",
   "id": "6c81bb7a",
   "metadata": {},
   "source": [
    "### Perform iterative `redcal`"
   ]
  },
  {
   "cell_type": "code",
   "execution_count": 16,
   "id": "597f55bc",
   "metadata": {},
   "outputs": [],
   "source": [
    "# figure out and filter reds and classify antennas based on whether or not they are on the main grid\n",
    "fr_settings = {'max_dims': OC_MAX_DIMS, 'min_dim_size': OC_MIN_DIM_SIZE, 'min_bl_cut': OC_MIN_BL_LEN, 'max_bl_cut': OC_MAX_BL_LEN}\n",
    "reds = redcal.get_reds(hd.data_antpos, pols=['ee', 'nn'], pol_mode='2pol', bl_error_tol=2.0)\n",
    "# reds = per_pol_filter_reds(reds, ex_ants=overall_class.bad_ants, antpos=hd.data_antpos, **fr_settings)\n",
    "reds = per_pol_filter_reds(\n",
    "    reds, ex_ants=[], antpos=hd.data_antpos, **fr_settings\n",
    ")\n",
    "if OC_SKIP_OUTRIGGERS:\n",
    "    reds = redcal.filter_reds(reds, ex_ants=[ant for ant in ants if ant[0] >= 320])\n",
    "redcal_class = classify_off_grid(reds, ants)"
   ]
  },
  {
   "cell_type": "code",
   "execution_count": 17,
   "id": "7fa97d69",
   "metadata": {},
   "outputs": [],
   "source": [
    "if OC_USE_PRIOR_SOL:\n",
    "    # Find closest omnical file\n",
    "    omnical_files = sorted(glob.glob('.'.join(OMNICAL_FILE.split('.')[:-5]) + '.*.' + '.'.join(OMNICAL_FILE.split('.')[-3:])))\n",
    "    if len(omnical_files) == 0:\n",
    "        OC_USE_PRIOR_SOL = False\n",
    "    else:\n",
    "        omnical_jds = np.array([float(re.findall(\"\\d+\\.\\d+\", ocf)[-1]) for ocf in omnical_files])\n",
    "        closest_omnical = omnical_files[np.argmin(np.abs(omnical_jds - data.times[0]))]\n",
    "\n",
    "        # Load closest omnical file and use it if the antenna flagging is not too dissimilar\n",
    "        hc = io.HERACal(closest_omnical)\n",
    "        prior_gains, prior_flags, _, _ = hc.read()\n",
    "        not_bad_not_prior_flagged = [ant for ant in overall_class if not ant in redcal_class.bad_ants and not np.all(prior_flags[ant])]\n",
    "        if (len(redcal_class.bad_ants) == len(redcal_class.ants)):\n",
    "            OC_USE_PRIOR_SOL = False  # all antennas flagged\n",
    "        elif (len(not_bad_not_prior_flagged) / (len(redcal_class.ants) - len(redcal_class.bad_ants))) < OC_PRIOR_SOL_FLAG_THRESH:\n",
    "            OC_USE_PRIOR_SOL = False  # too many antennas unflaged that were flagged in the prior sol\n",
    "        else:\n",
    "            print(f'Using {closest_omnical} as a starting point for redcal.')"
   ]
  },
  {
   "cell_type": "code",
   "execution_count": 18,
   "id": "01ac1931",
   "metadata": {},
   "outputs": [
    {
     "ename": "KeyError",
     "evalue": "\"Cannot find either (4, 5, 'nn') or (5, 4, 'nn') in this DataContainer.\"",
     "output_type": "error",
     "traceback": [
      "\u001b[0;31m---------------------------------------------------------------------------\u001b[0m",
      "\u001b[0;31mKeyError\u001b[0m                                  Traceback (most recent call last)",
      "File \u001b[0;32m/usr/local/miniconda3/envs/py310/lib/python3.10/site-packages/hera_cal/datacontainer.py:128\u001b[0m, in \u001b[0;36mDataContainer.__getitem__\u001b[0;34m(self, key)\u001b[0m\n\u001b[1;32m    127\u001b[0m \u001b[38;5;28;01mtry\u001b[39;00m:  \u001b[38;5;66;03m# just see if the key works first\u001b[39;00m\n\u001b[0;32m--> 128\u001b[0m     \u001b[38;5;28;01mreturn\u001b[39;00m \u001b[38;5;28;43mself\u001b[39;49m\u001b[38;5;241;43m.\u001b[39;49m\u001b[43m_data\u001b[49m\u001b[43m[\u001b[49m\u001b[43mkey\u001b[49m\u001b[43m]\u001b[49m\n\u001b[1;32m    129\u001b[0m \u001b[38;5;28;01mexcept\u001b[39;00m (\u001b[38;5;167;01mKeyError\u001b[39;00m):\n",
      "\u001b[0;31mKeyError\u001b[0m: (4, 5, 'nn')",
      "\nDuring handling of the above exception, another exception occurred:\n",
      "\u001b[0;31mKeyError\u001b[0m                                  Traceback (most recent call last)",
      "File \u001b[0;32m/usr/local/miniconda3/envs/py310/lib/python3.10/site-packages/hera_cal/datacontainer.py:137\u001b[0m, in \u001b[0;36mDataContainer.__getitem__\u001b[0;34m(self, key)\u001b[0m\n\u001b[1;32m    136\u001b[0m \u001b[38;5;28;01mtry\u001b[39;00m:\n\u001b[0;32m--> 137\u001b[0m     \u001b[38;5;28;01mreturn\u001b[39;00m \u001b[38;5;28;43mself\u001b[39;49m\u001b[38;5;241;43m.\u001b[39;49m\u001b[43m_data\u001b[49m\u001b[43m[\u001b[49m\u001b[43mbl\u001b[49m\u001b[43m]\u001b[49m\n\u001b[1;32m    138\u001b[0m \u001b[38;5;28;01mexcept\u001b[39;00m (\u001b[38;5;167;01mKeyError\u001b[39;00m):\n",
      "\u001b[0;31mKeyError\u001b[0m: (4, 5, 'nn')",
      "\nDuring handling of the above exception, another exception occurred:\n",
      "\u001b[0;31mKeyError\u001b[0m                                  Traceback (most recent call last)",
      "File \u001b[0;32m/usr/local/miniconda3/envs/py310/lib/python3.10/site-packages/hera_cal/datacontainer.py:140\u001b[0m, in \u001b[0;36mDataContainer.__getitem__\u001b[0;34m(self, key)\u001b[0m\n\u001b[1;32m    139\u001b[0m \u001b[38;5;28;01mtry\u001b[39;00m:\n\u001b[0;32m--> 140\u001b[0m     \u001b[38;5;28;01mif\u001b[39;00m np\u001b[38;5;241m.\u001b[39miscomplexobj(\u001b[38;5;28;43mself\u001b[39;49m\u001b[38;5;241;43m.\u001b[39;49m\u001b[43m_data\u001b[49m\u001b[43m[\u001b[49m\u001b[43mreverse_bl\u001b[49m\u001b[43m(\u001b[49m\u001b[43mbl\u001b[49m\u001b[43m)\u001b[49m\u001b[43m]\u001b[49m):\n\u001b[1;32m    141\u001b[0m         \u001b[38;5;28;01mreturn\u001b[39;00m np\u001b[38;5;241m.\u001b[39mconj(\u001b[38;5;28mself\u001b[39m\u001b[38;5;241m.\u001b[39m_data[reverse_bl(bl)])\n",
      "\u001b[0;31mKeyError\u001b[0m: (5, 4, 'nn')",
      "\nDuring handling of the above exception, another exception occurred:\n",
      "\u001b[0;31mKeyError\u001b[0m                                  Traceback (most recent call last)",
      "Cell \u001b[0;32mIn[18], line 21\u001b[0m\n\u001b[1;32m     18\u001b[0m     sol\u001b[38;5;241m.\u001b[39mupdate_vis_from_data(data)\n\u001b[1;32m     19\u001b[0m \u001b[38;5;28;01melse\u001b[39;00m:\n\u001b[1;32m     20\u001b[0m     \u001b[38;5;66;03m# perform first stage of redundant calibration \u001b[39;00m\n\u001b[0;32m---> 21\u001b[0m     meta, sol \u001b[38;5;241m=\u001b[39m \u001b[43mredcal\u001b[49m\u001b[38;5;241;43m.\u001b[39;49m\u001b[43mredundantly_calibrate\u001b[49m\u001b[43m(\u001b[49m\u001b[43mdata\u001b[49m\u001b[43m,\u001b[49m\u001b[43m \u001b[49m\u001b[43mreds\u001b[49m\u001b[43m,\u001b[49m\u001b[43m \u001b[49m\u001b[38;5;241;43m*\u001b[39;49m\u001b[38;5;241;43m*\u001b[39;49m\u001b[43mrc_settings\u001b[49m\u001b[43m)\u001b[49m\n\u001b[1;32m     22\u001b[0m     max_dly \u001b[38;5;241m=\u001b[39m np\u001b[38;5;241m.\u001b[39mmax(np\u001b[38;5;241m.\u001b[39mabs(\u001b[38;5;28mlist\u001b[39m(meta[\u001b[38;5;124m'\u001b[39m\u001b[38;5;124mfc_meta\u001b[39m\u001b[38;5;124m'\u001b[39m][\u001b[38;5;124m'\u001b[39m\u001b[38;5;124mdlys\u001b[39m\u001b[38;5;124m'\u001b[39m]\u001b[38;5;241m.\u001b[39mvalues())))  \u001b[38;5;66;03m# Needed for RFI delay-slope cal\u001b[39;00m\n\u001b[1;32m     23\u001b[0m     median_cspa \u001b[38;5;241m=\u001b[39m recheck_chisq(meta[\u001b[38;5;124m'\u001b[39m\u001b[38;5;124mchisq_per_ant\u001b[39m\u001b[38;5;124m'\u001b[39m], sol, oc_cspa_suspect[\u001b[38;5;241m1\u001b[39m] \u001b[38;5;241m*\u001b[39m \u001b[38;5;241m5\u001b[39m, np\u001b[38;5;241m.\u001b[39mnanmedian)\n",
      "File \u001b[0;32m/usr/local/miniconda3/envs/py310/lib/python3.10/site-packages/hera_cal/redcal.py:1619\u001b[0m, in \u001b[0;36mredundantly_calibrate\u001b[0;34m(data, reds, sol0, run_logcal, run_omnical, remove_degen, compute_chisq, freqs, times_by_bl, oc_conv_crit, oc_maxiter, check_every, check_after, gain, max_dims, use_gpu)\u001b[0m\n\u001b[1;32m   1617\u001b[0m \u001b[38;5;66;03m# perform firstcal if no sol0 is provided\u001b[39;00m\n\u001b[1;32m   1618\u001b[0m \u001b[38;5;28;01mif\u001b[39;00m sol0 \u001b[38;5;129;01mis\u001b[39;00m \u001b[38;5;28;01mNone\u001b[39;00m:\n\u001b[0;32m-> 1619\u001b[0m     meta[\u001b[38;5;124m'\u001b[39m\u001b[38;5;124mfc_meta\u001b[39m\u001b[38;5;124m'\u001b[39m], sol0 \u001b[38;5;241m=\u001b[39m \u001b[43mrc\u001b[49m\u001b[38;5;241;43m.\u001b[39;49m\u001b[43mfirstcal\u001b[49m\u001b[43m(\u001b[49m\u001b[43mdata\u001b[49m\u001b[43m,\u001b[49m\u001b[43m \u001b[49m\u001b[43mfreqs\u001b[49m\u001b[43m)\u001b[49m\n\u001b[1;32m   1620\u001b[0m \u001b[38;5;28;01melse\u001b[39;00m:\n\u001b[1;32m   1621\u001b[0m     meta[\u001b[38;5;124m'\u001b[39m\u001b[38;5;124mfc_meta\u001b[39m\u001b[38;5;124m'\u001b[39m] \u001b[38;5;241m=\u001b[39m \u001b[38;5;28;01mNone\u001b[39;00m\n",
      "File \u001b[0;32m/usr/local/miniconda3/envs/py310/lib/python3.10/site-packages/hera_cal/redcal.py:1211\u001b[0m, in \u001b[0;36mRedundantCalibrator.firstcal\u001b[0;34m(self, data, freqs, maxiter, sparse, mode, flip_pnt)\u001b[0m\n\u001b[1;32m   1209\u001b[0m     \u001b[38;5;28;01mif\u001b[39;00m \u001b[38;5;28mlen\u001b[39m(bls) \u001b[38;5;241m<\u001b[39m \u001b[38;5;241m2\u001b[39m:\n\u001b[1;32m   1210\u001b[0m         \u001b[38;5;28;01mcontinue\u001b[39;00m\n\u001b[0;32m-> 1211\u001b[0m     _dly_off \u001b[38;5;241m=\u001b[39m \u001b[43m_firstcal_align_bls\u001b[49m\u001b[43m(\u001b[49m\u001b[43mbls\u001b[49m\u001b[43m,\u001b[49m\u001b[43m \u001b[49m\u001b[43mfreqs\u001b[49m\u001b[43m,\u001b[49m\u001b[43m \u001b[49m\u001b[43mdata\u001b[49m\u001b[43m)\u001b[49m\n\u001b[1;32m   1212\u001b[0m     dlys_offs\u001b[38;5;241m.\u001b[39mupdate(_dly_off)\n\u001b[1;32m   1214\u001b[0m \u001b[38;5;66;03m# offsets often have phase wraps and need some finesse around np.pi\u001b[39;00m\n",
      "File \u001b[0;32m/usr/local/miniconda3/envs/py310/lib/python3.10/site-packages/hera_cal/redcal.py:1017\u001b[0m, in \u001b[0;36m_firstcal_align_bls\u001b[0;34m(bls, freqs, data, norm, wrap_pnt)\u001b[0m\n\u001b[1;32m   1015\u001b[0m dtau \u001b[38;5;241m=\u001b[39m fftfreqs[\u001b[38;5;241m1\u001b[39m] \u001b[38;5;241m-\u001b[39m fftfreqs[\u001b[38;5;241m0\u001b[39m]\n\u001b[1;32m   1016\u001b[0m grps \u001b[38;5;241m=\u001b[39m [(bl,) \u001b[38;5;28;01mfor\u001b[39;00m bl \u001b[38;5;129;01min\u001b[39;00m bls]  \u001b[38;5;66;03m# start with each bl in its own group\u001b[39;00m\n\u001b[0;32m-> 1017\u001b[0m _data \u001b[38;5;241m=\u001b[39m {bl: data[bl[\u001b[38;5;241m0\u001b[39m]] \u001b[38;5;28;01mfor\u001b[39;00m bl \u001b[38;5;129;01min\u001b[39;00m grps}\n\u001b[1;32m   1018\u001b[0m Ntimes, Nfreqs \u001b[38;5;241m=\u001b[39m data[bls[\u001b[38;5;241m0\u001b[39m]]\u001b[38;5;241m.\u001b[39mshape\n\u001b[1;32m   1019\u001b[0m times \u001b[38;5;241m=\u001b[39m np\u001b[38;5;241m.\u001b[39marange(Ntimes)\n",
      "File \u001b[0;32m/usr/local/miniconda3/envs/py310/lib/python3.10/site-packages/hera_cal/redcal.py:1017\u001b[0m, in \u001b[0;36m<dictcomp>\u001b[0;34m(.0)\u001b[0m\n\u001b[1;32m   1015\u001b[0m dtau \u001b[38;5;241m=\u001b[39m fftfreqs[\u001b[38;5;241m1\u001b[39m] \u001b[38;5;241m-\u001b[39m fftfreqs[\u001b[38;5;241m0\u001b[39m]\n\u001b[1;32m   1016\u001b[0m grps \u001b[38;5;241m=\u001b[39m [(bl,) \u001b[38;5;28;01mfor\u001b[39;00m bl \u001b[38;5;129;01min\u001b[39;00m bls]  \u001b[38;5;66;03m# start with each bl in its own group\u001b[39;00m\n\u001b[0;32m-> 1017\u001b[0m _data \u001b[38;5;241m=\u001b[39m {bl: \u001b[43mdata\u001b[49m\u001b[43m[\u001b[49m\u001b[43mbl\u001b[49m\u001b[43m[\u001b[49m\u001b[38;5;241;43m0\u001b[39;49m\u001b[43m]\u001b[49m\u001b[43m]\u001b[49m \u001b[38;5;28;01mfor\u001b[39;00m bl \u001b[38;5;129;01min\u001b[39;00m grps}\n\u001b[1;32m   1018\u001b[0m Ntimes, Nfreqs \u001b[38;5;241m=\u001b[39m data[bls[\u001b[38;5;241m0\u001b[39m]]\u001b[38;5;241m.\u001b[39mshape\n\u001b[1;32m   1019\u001b[0m times \u001b[38;5;241m=\u001b[39m np\u001b[38;5;241m.\u001b[39marange(Ntimes)\n",
      "File \u001b[0;32m/usr/local/miniconda3/envs/py310/lib/python3.10/site-packages/hera_cal/datacontainer.py:145\u001b[0m, in \u001b[0;36mDataContainer.__getitem__\u001b[0;34m(self, key)\u001b[0m\n\u001b[1;32m    143\u001b[0m         \u001b[38;5;28;01mreturn\u001b[39;00m \u001b[38;5;28mself\u001b[39m\u001b[38;5;241m.\u001b[39m_data[reverse_bl(bl)]\n\u001b[1;32m    144\u001b[0m \u001b[38;5;28;01mexcept\u001b[39;00m \u001b[38;5;167;01mKeyError\u001b[39;00m:\n\u001b[0;32m--> 145\u001b[0m     \u001b[38;5;28;01mraise\u001b[39;00m \u001b[38;5;167;01mKeyError\u001b[39;00m(\u001b[38;5;124mf\u001b[39m\u001b[38;5;124m'\u001b[39m\u001b[38;5;124mCannot find either \u001b[39m\u001b[38;5;132;01m{\u001b[39;00mkey\u001b[38;5;132;01m}\u001b[39;00m\u001b[38;5;124m or \u001b[39m\u001b[38;5;132;01m{\u001b[39;00mreverse_bl(key)\u001b[38;5;132;01m}\u001b[39;00m\u001b[38;5;124m in this DataContainer.\u001b[39m\u001b[38;5;124m'\u001b[39m)\n",
      "\u001b[0;31mKeyError\u001b[0m: \"Cannot find either (4, 5, 'nn') or (5, 4, 'nn') in this DataContainer.\""
     ]
    }
   ],
   "source": [
    "redcal_start = time.time()\n",
    "rc_settings = {'max_dims': OC_MAX_DIMS, 'oc_conv_crit': 1e-10, 'gain': 0.4, 'run_logcal': False,\n",
    "               'oc_maxiter': OC_MAXITER, 'check_after': OC_MAXITER, 'use_gpu': OC_USE_GPU}\n",
    "\n",
    "if check_if_whole_pol_flagged(redcal_class):\n",
    "    # skip redcal, initialize empty sol and meta \n",
    "    sol = redcal.RedSol(reds)\n",
    "    meta = {'chisq': None, 'chisq_per_ant': None}\n",
    "else:    \n",
    "    if OC_USE_PRIOR_SOL:\n",
    "        # use prior unflagged gains and data to create starting point for next step\n",
    "        ants_in_reds = set([ant for red in reds for bl in red for ant in utils.split_bl(bl)])\n",
    "        sol = redcal.RedSol(reds=reds, gains={ant: prior_gains[ant] for ant in not_bad_not_prior_flagged})\n",
    "        reds_to_update = [[bl for bl in red if (utils.split_bl(bl)[0] in sol.gains) and (utils.split_bl(bl)[1] in sol.gains)] for red in reds]\n",
    "        reds_to_update = [red for red in reds_to_update if len(red) > 0]\n",
    "        sol.update_vis_from_data(data, reds_to_update=reds_to_update)\n",
    "        redcal.expand_omni_gains(sol, reds, data)\n",
    "        sol.update_vis_from_data(data)\n",
    "    else:\n",
    "        # perform first stage of redundant calibration \n",
    "        meta, sol = redcal.redundantly_calibrate(data, reds, **rc_settings)\n",
    "        max_dly = np.max(np.abs(list(meta['fc_meta']['dlys'].values())))  # Needed for RFI delay-slope cal\n",
    "        median_cspa = recheck_chisq(meta['chisq_per_ant'], sol, oc_cspa_suspect[1] * 5, np.nanmedian)\n",
    "         # remove particularly bad antennas (5x the bound on median, not mean)\n",
    "        cspa_class = ant_class.antenna_bounds_checker(median_cspa, good=(oc_cspa_good[0], oc_cspa_suspect[1] * 5), bad=[(-np.inf, np.inf)])\n",
    "        redcal_class += cspa_class\n",
    "        print(f'Removing {cspa_class.bad_ants} for >5x high median chi^2.')\n",
    "        for ant in cspa_class.bad_ants:\n",
    "            print(f'\\t{ant}: {median_cspa[ant]:.3f}')\n",
    "        \n",
    "    malloc_trim()"
   ]
  },
  {
   "cell_type": "code",
   "execution_count": null,
   "id": "e9690866",
   "metadata": {},
   "outputs": [],
   "source": [
    "# iteratively rerun redundant calibration\n",
    "redcal_done = False\n",
    "rc_settings['oc_maxiter'] = rc_settings['check_after'] = OC_RERUN_MAXITER\n",
    "for i in range(OC_MAX_RERUN + 1):\n",
    "    # refilter reds and update classification to reflect new off-grid ants, if any\n",
    "    reds = per_pol_filter_reds(reds, ex_ants=(overall_class + redcal_class).bad_ants, antpos=hd.data_antpos, **fr_settings)\n",
    "    reds = sorted(reds, key=len, reverse=True)\n",
    "    redcal_class += classify_off_grid(reds, ants)\n",
    "    ants_in_reds = set([ant for red in reds for bl in red for ant in utils.split_bl(bl)])\n",
    "    \n",
    "    # check to see whether we're done\n",
    "    if check_if_whole_pol_flagged(redcal_class) or redcal_done or (i == OC_MAX_RERUN):\n",
    "        break\n",
    "\n",
    "    # re-run redundant calibration using previous solution, updating bad and suspicious antennas\n",
    "    meta, sol = redcal.redundantly_calibrate(data, reds, sol0=sol, **rc_settings)\n",
    "    malloc_trim()\n",
    "    \n",
    "    # recompute chi^2 for bad antennas without bad antennas to make sure they are actually bad\n",
    "    mean_cspa = recheck_chisq(meta['chisq_per_ant'], sol, oc_cspa_suspect[1], np.nanmean)\n",
    "    \n",
    "    # remove bad antennas\n",
    "    cspa_class = ant_class.antenna_bounds_checker(mean_cspa, good=oc_cspa_good, suspect=oc_cspa_suspect, bad=[(-np.inf, np.inf)])\n",
    "    for ant in cspa_class.bad_ants:\n",
    "        if mean_cspa[ant] < np.max(list(mean_cspa.values())) / OC_MAX_CHISQ_FLAGGING_DYNAMIC_RANGE:\n",
    "            cspa_class[ant] = 'suspect'  # reclassify as suspect if they are much better than the worst antennas\n",
    "    redcal_class += cspa_class\n",
    "    print(f'Removing {cspa_class.bad_ants} for high mean unflagged chi^2.')\n",
    "    for ant in cspa_class.bad_ants:\n",
    "        print(f'\\t{ant}: {mean_cspa[ant]:.3f}')\n",
    "\n",
    "    if len(cspa_class.bad_ants) == 0:\n",
    "        redcal_done = True  # no new antennas to flag\n",
    "\n",
    "print(f'Finished redcal in {(time.time() - redcal_start) / 60:.2f} minutes.')"
   ]
  },
  {
   "cell_type": "code",
   "execution_count": null,
   "id": "5bd57aa3",
   "metadata": {},
   "outputs": [],
   "source": [
    "overall_class += redcal_class"
   ]
  },
  {
   "cell_type": "markdown",
   "id": "d80e3151",
   "metadata": {},
   "source": [
    "### Expand solution to include calibratable baselines excluded from redcal (e.g. because they were too long)"
   ]
  },
  {
   "cell_type": "code",
   "execution_count": null,
   "id": "c02b6b06",
   "metadata": {},
   "outputs": [],
   "source": [
    "expanded_reds = redcal.get_reds(hd.data_antpos, pols=['ee', 'nn'], pol_mode='2pol', bl_error_tol=2.0)\n",
    "expanded_reds = per_pol_filter_reds(expanded_reds, ex_ants=(ant_metrics_class + solar_class + zeros_class + auto_class + xengine_diff_class).bad_ants,\n",
    "                                    max_dims=OC_MAX_DIMS, min_dim_size=OC_MIN_DIM_SIZE)\n",
    "if OC_SKIP_OUTRIGGERS:\n",
    "    expanded_reds = redcal.filter_reds(expanded_reds, ex_ants=[ant for ant in ants if ant[0] >= 320])\n",
    "if len(sol.gains) > 0:\n",
    "    redcal.expand_omni_vis(sol, expanded_reds, data, chisq=meta['chisq'], chisq_per_ant=meta['chisq_per_ant'])"
   ]
  },
  {
   "cell_type": "code",
   "execution_count": null,
   "id": "e16485f0",
   "metadata": {},
   "outputs": [],
   "source": [
    "# now figure out flags, nsamples etc.\n",
    "omni_flags = {ant: (~np.isfinite(g)) | (ant in overall_class.bad_ants) for ant, g in sol.gains.items()}\n",
    "vissol_flags = datacontainer.RedDataContainer({bl: ~np.isfinite(v) for bl, v in sol.vis.items()}, reds=sol.vis.reds)\n",
    "single_nsamples_array = np.ones((len(hd.times), len(hd.freqs)), dtype=float)\n",
    "nsamples = datacontainer.DataContainer({bl: single_nsamples_array for bl in data})\n",
    "vissol_nsamples = redcal.count_redundant_nsamples(nsamples, [red for red in expanded_reds if red[0] in vissol_flags], \n",
    "                                                  good_ants=[ant for ant in overall_class if ant not in overall_class.bad_ants])\n",
    "for bl in vissol_flags:\n",
    "    vissol_flags[bl][vissol_nsamples[bl] == 0] = True\n",
    "sol.make_sol_finite()"
   ]
  },
  {
   "cell_type": "markdown",
   "id": "ed9a96d1",
   "metadata": {},
   "source": [
    "### Fix the `firstcal` delay slope degeneracy using RFI transmitters"
   ]
  },
  {
   "cell_type": "code",
   "execution_count": null,
   "id": "5cb2ed80",
   "metadata": {},
   "outputs": [],
   "source": [
    "if not OC_USE_PRIOR_SOL:\n",
    "    # find channels clearly contaminated by RFI\n",
    "    not_bad_ants = [ant for ant in overall_class.ants if overall_class[ant] != 'bad']\n",
    "    if len(not_bad_ants) > 0:\n",
    "        chan_flags = np.mean([xrfi.detrend_medfilt(data[utils.join_bl(ant, ant)], Kf=8, Kt=2) for ant in not_bad_ants], axis=(0, 1)) > 5\n",
    "\n",
    "        # hardcoded RFI transmitters and their headings\n",
    "        # channel: frequency (Hz), heading (rad), chi^2\n",
    "        phs_sol = {359: ( 90744018.5546875, 0.7853981, 23.3),\n",
    "                   360: ( 90866088.8671875, 0.7853981, 10.8),\n",
    "                   385: ( 93917846.6796875, 0.7853981, 27.3),\n",
    "                   386: ( 94039916.9921875, 0.7853981, 18.1),\n",
    "                   400: ( 95748901.3671875, 6.0632738, 24.0),\n",
    "                   441: (100753784.1796875, 0.7853981, 21.7),\n",
    "                   442: (100875854.4921875, 0.7853981, 19.4),\n",
    "                   455: (102462768.5546875, 6.0632738, 18.8),\n",
    "                   456: (102584838.8671875, 6.0632738,  8.8),\n",
    "                   471: (104415893.5546875, 0.7853981, 13.3),\n",
    "                   484: (106002807.6171875, 6.0632738, 21.2),\n",
    "                   485: (106124877.9296875, 6.0632738,  4.0),\n",
    "                  1181: (191085815.4296875, 0.7853981, 26.3),\n",
    "                  1182: (191207885.7421875, 0.7853981, 27.0),\n",
    "                  1183: (191329956.0546875, 0.7853981, 25.6),\n",
    "                  1448: (223678588.8671875, 2.6075219, 25.7),\n",
    "                  1449: (223800659.1796875, 2.6075219, 22.6),\n",
    "                  1450: (223922729.4921875, 2.6075219, 11.6),\n",
    "                  1451: (224044799.8046875, 2.6075219,  5.9),\n",
    "                  1452: (224166870.1171875, 2.6075219, 22.6),\n",
    "                  1510: (231246948.2421875, 0.1068141, 23.9)}\n",
    "\n",
    "        if not np.isclose(hd.freqs[0], 46920776.3671875, atol=0.001) or len(hd.freqs) != 1536:\n",
    "            # We have less frequencies than usual (maybe testing)\n",
    "            phs_sol = {np.argmin(np.abs(hd.freqs - freq)): (freq, heading, chisq) for chan, (freq, heading, chisq) in phs_sol.items() if hd.freqs[0] <= freq <= hd.freqs[-1]}\n",
    "\n",
    "\n",
    "        rfi_chans = [chan for chan in phs_sol if chan_flags[chan]]\n",
    "        print('Channels used for delay-slope calibration with RFI:', rfi_chans)\n",
    "        rfi_angles = np.array([phs_sol[chan][1] for chan in rfi_chans])\n",
    "        rfi_headings = np.array([np.cos(rfi_angles), np.sin(rfi_angles), np.zeros_like(rfi_angles)])\n",
    "        rfi_chisqs = np.array([phs_sol[chan][2] for chan in rfi_chans])\n",
    "\n",
    "        # resolve firstcal degeneracy with delay slopes set by RFI transmitters, update cal\n",
    "        RFI_dly_slope_gains = abscal.RFI_delay_slope_cal([red for red in expanded_reds if red[0] in sol.vis], hd.antpos, sol.vis, hd.freqs, rfi_chans, rfi_headings, rfi_wgts=rfi_chisqs**-1,\n",
    "                                                         min_tau=-max_dly, max_tau=max_dly, delta_tau=0.1e-9, return_gains=True, gain_ants=sol.gains.keys())\n",
    "        sol.gains = {ant: g * RFI_dly_slope_gains[ant] for ant, g in sol.gains.items()}\n",
    "        apply_cal.calibrate_in_place(sol.vis, RFI_dly_slope_gains)\n",
    "        malloc_trim()"
   ]
  },
  {
   "cell_type": "markdown",
   "id": "bb42028e",
   "metadata": {},
   "source": [
    "### Perform absolute amplitude calibration using a model of autocorrelations"
   ]
  },
  {
   "cell_type": "code",
   "execution_count": null,
   "id": "cd0b6a55",
   "metadata": {},
   "outputs": [],
   "source": [
    "# Load simulated and then downsampled model of autocorrelations that includes receiver noise, then interpolate to upsample\n",
    "hd_auto_model = io.HERAData(f'{HNBT_DATA}/SSM_autocorrelations_downsampled_sum_pol_convention.uvh5')\n",
    "model, _, _ = hd_auto_model.read()\n",
    "per_pol_interpolated_model = {}\n",
    "for bl in model:\n",
    "    sorted_lsts, lst_indices = np.unique(model.lsts, return_index=True)\n",
    "    periodic_model = np.vstack([model[bl][lst_indices, :], model[bl][lst_indices[0], :]])\n",
    "    periodic_lsts = np.append(sorted_lsts, sorted_lsts[0] + 2 * np.pi)\n",
    "    lst_interpolated = interpolate.CubicSpline(periodic_lsts, periodic_model, axis=0, bc_type='periodic')(data.lsts)\n",
    "    per_pol_interpolated_model[bl[2]] = interpolate.CubicSpline(model.freqs, lst_interpolated, axis=1)(data.freqs)\n",
    "model = {bl: per_pol_interpolated_model[bl[2]] for bl in auto_bls if utils.split_bl(bl)[0] not in overall_class.bad_ants}"
   ]
  },
  {
   "cell_type": "code",
   "execution_count": null,
   "id": "eea0f3d3",
   "metadata": {},
   "outputs": [],
   "source": [
    "# Run abscal and update omnical gains with abscal gains\n",
    "if len(model) > 0:\n",
    "    redcaled_autos = {bl: sol.calibrate_bl(bl, data[bl]) for bl in auto_bls if utils.split_bl(bl)[0] not in overall_class.bad_ants}\n",
    "    g_abscal = abscal.abs_amp_logcal(model, redcaled_autos, verbose=False, return_gains=True, gain_ants=sol.gains)\n",
    "    sol.gains = {ant: g * g_abscal[ant] for ant, g in sol.gains.items()}\n",
    "    apply_cal.calibrate_in_place(sol.vis, g_abscal)\n",
    "    del redcaled_autos, g_abscal"
   ]
  },
  {
   "cell_type": "markdown",
   "id": "de05f0a8",
   "metadata": {},
   "source": [
    "### Full absolute calibration of phase gradients\n",
    "If an `ABSCAL_MODEL_FILES_GLOB` is provided, try to perform a full absolute calibration of tip-tilt phase gradients across the array using that those model files. Specifically, this step calibrates omnical visbility solutions using unique baselines simulated with a model of the sky and HERA's beam."
   ]
  },
  {
   "cell_type": "code",
   "execution_count": null,
   "id": "242c2ea9",
   "metadata": {},
   "outputs": [],
   "source": [
    "if ABSCAL_MODEL_FILES_GLOB is not None:\n",
    "    abscal_model_files = sorted(glob.glob(ABSCAL_MODEL_FILES_GLOB))\n",
    "else:\n",
    "    # try to find files on site\n",
    "    abscal_model_files = sorted(glob.glob('/mnt/sn1/data1/abscal_models/H6C/zen.2458894.?????.uvh5'))\n",
    "    if len(abscal_model_files) == 0:\n",
    "        # try to find files at NRAO\n",
    "        abscal_model_files = sorted(glob.glob('/lustre/aoc/projects/hera/h6c-analysis/abscal_models/h6c_abscal_files_unique_baselines/zen.2458894.?????.uvh5'))\n",
    "print(f'Found {len(abscal_model_files)} abscal model files{\" in \" + os.path.dirname(abscal_model_files[0]) if len(abscal_model_files) > 0 else \"\"}.')"
   ]
  },
  {
   "cell_type": "code",
   "execution_count": null,
   "id": "79bc7dfb",
   "metadata": {},
   "outputs": [],
   "source": [
    "# Try to perform a full abscal of phase\n",
    "if len(abscal_model_files) == 0:\n",
    "    DO_FULL_ABSCAL = False\n",
    "    print('No model files found... not performing full absolute calibration of phase gradients.')\n",
    "elif np.all([ant in overall_class.bad_ants for ant in ants]):\n",
    "    DO_FULL_ABSCAL = False\n",
    "    print('All antennas classified as bad... skipping absolute calibration of phase gradients.')\n",
    "else:\n",
    "    abscal_start = time.time()\n",
    "    # figure out which model files match the LSTs of the data\n",
    "    matched_model_files = sorted(set(abscal.match_times(SUM_FILE, abscal_model_files, filetype='uvh5')))\n",
    "    if len(matched_model_files) == 0:\n",
    "        DO_FULL_ABSCAL = False\n",
    "        print(f'No model files found matching the LSTs of this file after searching for {(time.time() - abscal_start) / 60:.2f} minutes. '\n",
    "              'Not performing full absolute calibration of phase gradients.')\n",
    "    else:\n",
    "        DO_FULL_ABSCAL = True\n",
    "        # figure out appropriate model times to load\n",
    "        hdm = io.HERAData(matched_model_files)\n",
    "        all_model_times, all_model_lsts = abscal.get_all_times_and_lsts(hdm, unwrap=True)\n",
    "        d2m_time_map = abscal.get_d2m_time_map(data.times, np.unwrap(data.lsts), all_model_times, all_model_lsts, extrap_limit=.5)"
   ]
  },
  {
   "cell_type": "code",
   "execution_count": null,
   "id": "52c071cd",
   "metadata": {},
   "outputs": [],
   "source": [
    "if DO_FULL_ABSCAL:\n",
    "    abscal_meta = {}\n",
    "    for pol in ['ee', 'nn']:\n",
    "        print(f'Performing absolute phase gradient calibration of {pol}-polarized visibility solutions...')\n",
    "        \n",
    "        # load matching times and baselines\n",
    "        unflagged_data_bls = [bl for bl in vissol_flags if not np.all(vissol_flags[bl]) and bl[2] == pol]\n",
    "        model_bls = copy.deepcopy(hdm.bls)\n",
    "        model_antpos = hdm.data_antpos\n",
    "        if len(matched_model_files) > 1:  # in this case, it's a dictionary\n",
    "            model_bls = list(set([bl for bls in list(hdm.bls.values()) for bl in bls]))\n",
    "            model_antpos = {ant: pos for antpos in hdm.data_antpos.values() for ant, pos in antpos.items()}\n",
    "        data_bls, model_bls, data_to_model_bl_map = abscal.match_baselines(unflagged_data_bls, model_bls, data.antpos, model_antpos=model_antpos, \n",
    "                                                                         pols=[pol], data_is_redsol=True, model_is_redundant=True, tol=1.0,\n",
    "                                                                         min_bl_cut=ABSCAL_MIN_BL_LEN, max_bl_cut=ABSCAL_MAX_BL_LEN, verbose=True)\n",
    "        model, model_flags, _ = io.partial_time_io(hdm, np.unique([d2m_time_map[time] for time in data.times]), bls=model_bls)\n",
    "        model_bls = [data_to_model_bl_map[bl] for bl in data_bls]\n",
    "        \n",
    "        # rephase model to match in lsts\n",
    "        model_blvecs = {bl: model.antpos[bl[0]] - model.antpos[bl[1]] for bl in model.keys()}\n",
    "        utils.lst_rephase(model, model_blvecs, model.freqs, data.lsts - model.lsts,\n",
    "                          lat=hdm.telescope_location_lat_lon_alt_degrees[0], inplace=True)\n",
    "\n",
    "        # run abscal and apply \n",
    "        abscal_meta[pol], delta_gains = abscal.complex_phase_abscal(sol.vis, model, sol.reds, data_bls, model_bls)\n",
    "        \n",
    "        # apply gains\n",
    "        sol.gains = {antpol : g * delta_gains.get(antpol, 1) for antpol, g in sol.gains.items()}\n",
    "        apply_cal.calibrate_in_place(sol.vis, delta_gains)            \n",
    "     \n",
    "    del model, model_flags, delta_gains\n",
    "    malloc_trim()    \n",
    "    \n",
    "    print(f'Finished absolute calibration of tip-tilt phase slopes in {(time.time() - abscal_start) / 60:.2f} minutes.')"
   ]
  },
  {
   "cell_type": "code",
   "execution_count": null,
   "id": "0dc18807",
   "metadata": {},
   "outputs": [],
   "source": [
    "if DO_FULL_ABSCAL and CALIBRATE_CROSS_POLS:\n",
    "    cross_pol_cal_start = time.time()\n",
    "\n",
    "    # Compute reds for good antennas \n",
    "    cross_reds = redcal.get_reds(hd.data_antpos, pols=['en', 'ne'], bl_error_tol=2.0)        \n",
    "    cross_reds = redcal.filter_reds(cross_reds, ex_ants=overall_class.bad_ants, pols=['en', 'ne'], antpos=hd.antpos, **fr_settings)    \n",
    "    unflagged_data_bls = [red[0] for red in cross_reds]\n",
    "\n",
    "    # Get cross-polarized model visibilities\n",
    "    model_bls = copy.deepcopy(hdm.bls)\n",
    "    model_antpos = hdm.data_antpos\n",
    "    if len(matched_model_files) > 1:  # in this case, it's a dictionary\n",
    "        model_bls = list(set([bl for bls in list(hdm.bls.values()) for bl in bls]))\n",
    "        model_antpos = {ant: pos for antpos in hdm.data_antpos.values() for ant, pos in antpos.items()}\n",
    "\n",
    "    data_bls, model_bls, data_to_model_bl_map = abscal.match_baselines(unflagged_data_bls, model_bls, data.antpos, model_antpos=model_antpos, \n",
    "                                                                     pols=['en', 'ne'], data_is_redsol=False, model_is_redundant=True, tol=1.0,\n",
    "                                                                     min_bl_cut=ABSCAL_MIN_BL_LEN, max_bl_cut=ABSCAL_MAX_BL_LEN, verbose=True)\n",
    "    \n",
    "    model, model_flags, _ = io.partial_time_io(hdm, np.unique([d2m_time_map[time] for time in data.times]), bls=model_bls)\n",
    "    model_bls = [data_to_model_bl_map[bl] for bl in data_bls]\n",
    "\n",
    "    # rephase model to match in lsts\n",
    "    model_blvecs = {bl: model.antpos[bl[0]] - model.antpos[bl[1]] for bl in model.keys()}\n",
    "    utils.lst_rephase(model, model_blvecs, model.freqs, data.lsts - model.lsts, lat=hdm.telescope_location_lat_lon_alt_degrees[0], inplace=True)\n",
    "\n",
    "\n",
    "    wgts_here = {}\n",
    "    data_here = {}\n",
    "\n",
    "    \n",
    "    for red in cross_reds:\n",
    "        data_bl = red[0]\n",
    "        if data_bl in data_to_model_bl_map:\n",
    "\n",
    "            wgts_here[data_bl] = np.sum([\n",
    "                np.logical_not(omni_flags[utils.split_bl(bl)[0]] | omni_flags[utils.split_bl(bl)[1]])\n",
    "                for bl in red\n",
    "            ], axis=0)\n",
    "            data_here[data_bl] = np.nanmean([\n",
    "                np.where(\n",
    "                    omni_flags[utils.split_bl(bl)[0]] | omni_flags[utils.split_bl(bl)[1]],\n",
    "                    np.nan, sol.calibrate_bl(bl, data[bl])\n",
    "                ) \n",
    "                for bl in red\n",
    "            ], axis=0)\n",
    "    \n",
    "    # Run cross-polarized phase calibration\n",
    "    delta_gains = abscal.cross_pol_phase_cal(\n",
    "        model=model, data=data_here, wgts=wgts_here, data_bls=data_bls, model_bls=model_bls, return_gains=True,\n",
    "        gain_ants=sol.gains.keys()\n",
    "    )\n",
    "    \n",
    "    # apply gains\n",
    "    # \\Delta = \\phi_e - \\phi_n, where V_{en}^{cal} = V_{en}^{uncal} * e^{i \\Delta} \n",
    "    # and V_{ne}^{cal} = V_{ne}^{uncal} * e^{-i \\Delta}\n",
    "    sol.gains = {antpol: g * delta_gains[antpol] for antpol, g in sol.gains.items()}\n",
    "    apply_cal.calibrate_in_place(sol.vis, delta_gains)\n",
    "    del hdm, model, model_flags, delta_gains\n",
    "    print(f'Finished relative polarized phase calibration in {(time.time() - cross_pol_cal_start) / 60:.2f} minutes.')"
   ]
  },
  {
   "cell_type": "markdown",
   "id": "7f4635a5",
   "metadata": {},
   "source": [
    "## Plotting"
   ]
  },
  {
   "cell_type": "code",
   "execution_count": null,
   "id": "3228070d",
   "metadata": {},
   "outputs": [],
   "source": [
    "def redundant_group_plot():\n",
    "    if np.all([ant in overall_class.bad_ants for ant in ants]):\n",
    "        print('All antennas classified as bad. Nothing to plot.')\n",
    "        return\n",
    "    \n",
    "    fig, axes = plt.subplots(2, 2, figsize=(14, 6), dpi=100, sharex='col', sharey='row', gridspec_kw={'hspace': 0, 'wspace': 0})\n",
    "    for i, pol in enumerate(['ee', 'nn']):\n",
    "        reds_here = redcal.get_reds(hd.data_antpos, pols=[pol], pol_mode='1pol', bl_error_tol=2.0)\n",
    "        red = sorted(redcal.filter_reds(reds_here, ex_ants=overall_class.bad_ants), key=len, reverse=True)[0]\n",
    "        rc_data = {bl: sol.calibrate_bl(bl, data[bl]) for bl in red}\n",
    "        for bl in red:\n",
    "            axes[0, i].plot(hd.freqs/1e6, np.angle(rc_data[bl][0]), alpha=.5, lw=.5)\n",
    "            axes[1, i].semilogy(hd.freqs/1e6, np.abs(rc_data[bl][0]), alpha=.5, lw=.5)\n",
    "        axes[0, i].plot(hd.freqs / 1e6, np.angle(sol.vis[red[0]][0]), lw=1, c='k')\n",
    "        axes[1, i].semilogy(hd.freqs / 1e6, np.abs(sol.vis[red[0]][0]), lw=1, c='k', label=f'Baseline Group:\\n{red[0]}')\n",
    "        axes[1, i].set_xlabel('Frequency (MHz)')\n",
    "        axes[1, i].legend(loc='upper right')\n",
    "    axes[0, 0].set_ylabel('Visibility Phase (radians)')\n",
    "    axes[1, 0].set_ylabel('Visibility Amplitude (Jy)')\n",
    "    plt.tight_layout()"
   ]
  },
  {
   "cell_type": "code",
   "execution_count": null,
   "id": "58cdedf0",
   "metadata": {},
   "outputs": [],
   "source": [
    "def abscal_degen_plot():\n",
    "    if DO_FULL_ABSCAL:\n",
    "        fig, axes = plt.subplots(3, 1, figsize=(14, 6), dpi=100, sharex=True, gridspec_kw={'hspace': .05})\n",
    "\n",
    "        for ax, pol in zip(axes[:2], ['ee', 'nn']):\n",
    "            for kk in range(abscal_meta[pol]['Lambda_sol'].shape[-1]):\n",
    "                ax.plot(hd.freqs[~rfi_flags[0]] * 1e-6, abscal_meta[pol]['Lambda_sol'][0, ~rfi_flags[0], kk], '.', ms=1, label=f\"Component {kk}\")\n",
    "\n",
    "            ax.set_ylim(-np.pi-0.5, np.pi+0.5)\n",
    "            ax.set_xlabel('Frequency (MHz)')\n",
    "            ax.set_ylabel('Phase Gradient\\nVector Component')\n",
    "            ax.legend(markerscale=20, title=f'{pol}-polarization', loc='lower right')\n",
    "            ax.grid()\n",
    "            \n",
    "        for pol, color in zip(['ee', 'nn'], ['b', 'r']):\n",
    "            axes[2].plot(hd.freqs[~rfi_flags[0]]*1e-6, abscal_meta[pol]['Z_sol'].real[0, ~rfi_flags[0]], '.', ms=1, label=pol, color=color)\n",
    "        axes[2].set_ylim(-.25, 1.05)\n",
    "        axes[2].set_ylabel('Re[Z($\\\\nu$)]')\n",
    "        axes[2].legend(markerscale=20, loc='lower right')\n",
    "        axes[2].grid()            \n",
    "        plt.tight_layout()"
   ]
  },
  {
   "cell_type": "code",
   "execution_count": null,
   "id": "fd42e27d",
   "metadata": {},
   "outputs": [],
   "source": [
    "def polarized_gain_phase_plot():\n",
    "    if CALIBRATE_CROSS_POLS and DO_FULL_ABSCAL:\n",
    "        plt.figure(figsize=(14, 4), dpi=100)\n",
    "        for i, time in enumerate(data.times):\n",
    "            plt.plot(data.freqs / 1e6, np.where(rfi_flags[i], np.nan, delta[i, :]), '.', ms=1.5, label=f'{time:.6f}')\n",
    "        plt.ylim(-np.pi-0.5, np.pi+0.5)\n",
    "        plt.xlabel('Frequency (MHz)')\n",
    "        plt.ylabel('Relative Phase $\\Delta \\ (\\phi_{ee} - \\phi_{nn})$')\n",
    "        plt.grid()\n",
    "        plt.legend()"
   ]
  },
  {
   "cell_type": "markdown",
   "id": "61aca081",
   "metadata": {},
   "source": [
    "# *Figure 4: Redundant calibration of a single baseline group*\n",
    "The results of a redundant-baseline calibration of a single integration and a single group, the one with the highest redundancy in each polarization after antenna classification and excision based on the above, plus the removal of antennas with high chi^2 per antenna. The black line is the redundant visibility solution. Each thin colored line is a different baseline group. Phases are shown in the top row, amplitudes in the bottom, ee-polarized visibilities in the left column, and nn-polarized visibilities in the right."
   ]
  },
  {
   "cell_type": "code",
   "execution_count": null,
   "id": "02347071",
   "metadata": {},
   "outputs": [],
   "source": [
    "if PLOT: redundant_group_plot()"
   ]
  },
  {
   "cell_type": "markdown",
   "id": "dfd8e047",
   "metadata": {},
   "source": [
    "# *Figure 5: Absolute calibration of `redcal` degeneracies*\n",
    "This figure shows the per-frequency phase gradient solutions across the array for both polarizations and all components of the degenerate subspace of redundant-baseline calibraton. While full HERA only has two such tip-tilt degeneracies, a subset of HERA can have up to `OC_MAX_DIMS` (depending on antenna flagging). In addition to the absolute amplitude, this is the full set of the calibration degrees of freedom not constrainted by `redcal`. This figure also includes a plot of $Re[Z(\\nu)]$, the complex objective function which varies from -1 to 1 and indicates how well the data and the absolute calibration model have been made to agree. Perfect agreement is 1.0 and good agreement is anything above $\\sim$0.5 Decorrelation yields values closer to 0, where anything below $\\sim$0.3 is suspect."
   ]
  },
  {
   "cell_type": "code",
   "execution_count": null,
   "id": "284007bf",
   "metadata": {},
   "outputs": [],
   "source": [
    "if PLOT: abscal_degen_plot()"
   ]
  },
  {
   "cell_type": "markdown",
   "id": "3da83c03",
   "metadata": {},
   "source": [
    "# *Figure 6: Relative Phase Calibration*\n",
    "\n",
    "This figure shows the relative phase calibration between the `ee` vs. `nn` polarizations."
   ]
  },
  {
   "cell_type": "code",
   "execution_count": null,
   "id": "49cb9bfe",
   "metadata": {},
   "outputs": [],
   "source": [
    "if PLOT: polarized_gain_phase_plot()"
   ]
  },
  {
   "cell_type": "markdown",
   "id": "21970839",
   "metadata": {},
   "source": [
    "### Attempt to calibrate some flagged antennas\n",
    "This attempts to calibrate bad antennas using information from good or suspect antennas without allowing bad antennas to affect their calibration. However, introducing 0s in gains or infs/nans in gains or visibilities can create problems down the line, so those are removed."
   ]
  },
  {
   "cell_type": "code",
   "execution_count": null,
   "id": "8b51734c",
   "metadata": {},
   "outputs": [],
   "source": [
    "expand_start = time.time()\n",
    "expanded_reds = redcal.get_reds(hd.data_antpos, pols=['ee', 'nn'], pol_mode='2pol', bl_error_tol=2.0)\n",
    "sol.vis.build_red_keys(expanded_reds)\n",
    "redcal.expand_omni_gains(sol, expanded_reds, data, chisq_per_ant=meta['chisq_per_ant'])\n",
    "if not np.all([ant in overall_class.bad_ants for ant in ants]):\n",
    "    redcal.expand_omni_vis(sol, expanded_reds, data)\n",
    "\n",
    "# Replace near-zeros in gains and infs/nans in gains/sols\n",
    "for ant in sol.gains:\n",
    "    zeros_in_gains = np.isclose(sol.gains[ant], 0)\n",
    "    if ant in omni_flags:\n",
    "        omni_flags[ant][zeros_in_gains] = True\n",
    "    sol.gains[ant][zeros_in_gains] = 1.0 + 0.0j\n",
    "sol.make_sol_finite()\n",
    "malloc_trim()\n",
    "print(f'Finished expanding gain solution in {(time.time() - expand_start) / 60:.2f} minutes.')"
   ]
  },
  {
   "cell_type": "code",
   "execution_count": null,
   "id": "933cbdf4",
   "metadata": {},
   "outputs": [],
   "source": [
    "def array_chisq_plot(include_outriggers=True):\n",
    "    if np.all([ant in overall_class.bad_ants for ant in ants]):\n",
    "        print('All antennas classified as bad. Nothing to plot.')\n",
    "        return    \n",
    "    \n",
    "    def _chisq_subplot(ants, size=250):\n",
    "        fig, axes = plt.subplots(1, 2, figsize=(14, 5), dpi=100)\n",
    "        for ax, pol in zip(axes, ['ee', 'nn']):\n",
    "            ants_to_plot = set([ant for ant in meta['chisq_per_ant'] if utils.join_pol(ant[1], ant[1]) == pol and (ant[0] in ants)])\n",
    "            cspas = np.array([np.nanmean(np.where(rfi_flags, np.nan, meta['chisq_per_ant'][ant])) for ant in ants_to_plot])\n",
    "            xpos = [hd.antpos[ant[0]][0] for ant in ants_to_plot]\n",
    "            ypos = [hd.antpos[ant[0]][1] for ant in ants_to_plot]\n",
    "            scatter = ax.scatter(xpos, ypos, s=size, c=cspas, lw=.25, edgecolors=np.where(np.isfinite(cspas) & (cspas > 0), 'none', 'k'), \n",
    "                                 norm=matplotlib.colors.LogNorm(vmin=1, vmax=oc_cspa_suspect[1]))\n",
    "            for ant in ants_to_plot:\n",
    "                ax.text(hd.antpos[ant[0]][0], hd.antpos[ant[0]][1], ant[0], va='center', ha='center', fontsize=8,\n",
    "                        c=('r' if ant in overall_class.bad_ants else 'w'))\n",
    "            plt.colorbar(scatter, ax=ax, extend='both')\n",
    "            ax.axis('equal')\n",
    "            ax.set_xlabel('East-West Position (meters)')\n",
    "            ax.set_ylabel('North-South Position (meters)')\n",
    "            ax.set_title(f'{pol}-pol $\\\\chi^2$ / Antenna (Red is Flagged)')\n",
    "        plt.tight_layout()    \n",
    "    \n",
    "    _chisq_subplot([ant for ant in hd.data_ants if ant < 320])\n",
    "    outriggers = [ant for ant in hd.data_ants if ant >= 320]    \n",
    "    if include_outriggers & (len(outriggers) > 0):\n",
    "        _chisq_subplot([ant for ant in hd.data_ants if ant >= 320], size=400)"
   ]
  },
  {
   "cell_type": "markdown",
   "id": "4deeb7fa",
   "metadata": {},
   "source": [
    "# *Figure 7: chi^2 per antenna across the array*\n",
    "\n",
    "This plot shows median (taken over time and frequency) of the normalized chi^2 per antenna. \n",
    "The expectation value for this quantity when the array is perfectly redundant is 1.0. \n",
    "Antennas that are classified as bad for any reason have their numbers shown in red. \n",
    "Some of those antennas were classified as bad during redundant calibration for high chi^2. \n",
    "Some of those antennas were originally excluded from redundant calibration because they were classified as bad earlier for some reason. \n",
    "See [here for more details.](#Attempt-to-calibrate-some-flagged-antennas)\n",
    "Note that the color scale saturates at below 1 and above 10. "
   ]
  },
  {
   "cell_type": "code",
   "execution_count": null,
   "id": "74083166",
   "metadata": {},
   "outputs": [],
   "source": [
    "if PLOT: array_chisq_plot(include_outriggers=(not OC_SKIP_OUTRIGGERS))"
   ]
  },
  {
   "cell_type": "markdown",
   "id": "241c0a22",
   "metadata": {},
   "source": [
    "# *Figure 8: Summary of antenna classifications after redundant calibration*\n",
    "\n",
    "This figure is the same as [Figure 2](#Figure-2:-Summary-of-antenna-classifications-prior-to-calibration), except that it now includes additional suspect or bad antennas based on redundant calibration.\n",
    "This can include antennas with high chi^2, but it can also include antennas classified as \"bad\" because they would add extra degeneracies to calibration."
   ]
  },
  {
   "cell_type": "code",
   "execution_count": null,
   "id": "605d5142",
   "metadata": {},
   "outputs": [],
   "source": [
    "if PLOT: array_class_plot(overall_class, extra_label=\", Post-Redcal\")"
   ]
  },
  {
   "cell_type": "code",
   "execution_count": null,
   "id": "592a378e",
   "metadata": {},
   "outputs": [],
   "source": [
    "to_show = {'Antenna': [f'{ant[0]}{ant[1][-1]}' for ant in ants]}\n",
    "classes = {'Antenna': [overall_class[ant] if ant in overall_class else '-' for ant in ants]}\n",
    "to_show['Dead?'] = [{'good': 'No', 'bad': 'Yes'}[am_totally_dead[ant]] if (ant in am_totally_dead) else '' for ant in ants]\n",
    "classes['Dead?'] = [am_totally_dead[ant] if (ant in am_totally_dead) else '' for ant in ants]\n",
    "for title, ac in [('Low Correlation', am_corr),\n",
    "                  ('Cross-Polarized', am_xpol),\n",
    "                  ('Solar Alt', solar_class),\n",
    "                  ('Even/Odd Zeros', zeros_class),\n",
    "                  ('Autocorr Power', auto_power_class),\n",
    "                  ('Autocorr Slope', auto_slope_class),\n",
    "                  ('Auto RFI RMS', auto_rfi_class),\n",
    "                  ('Autocorr Shape', auto_shape_class),\n",
    "                  ('Bad Diff X-Engines', xengine_diff_class)]:\n",
    "    to_show[title] = [f'{ac._data[ant]:.2G}' if (ant in ac._data) else '' for ant in ants]\n",
    "    classes[title] = [ac[ant] if ant in ac else 'bad' for ant in ants]\n",
    "    \n",
    "to_show['Redcal chi^2'] = [f'{np.nanmean(np.where(rfi_flags, np.nan, meta[\"chisq_per_ant\"][ant])):.3G}' \\\n",
    "                           if (meta['chisq_per_ant'] is not None and ant in meta['chisq_per_ant']) else '' for ant in ants]\n",
    "classes['Redcal chi^2'] = [redcal_class[ant] if ant in redcal_class else '' for ant in ants]\n",
    "\n",
    "df = pd.DataFrame(to_show)\n",
    "df_classes = pd.DataFrame(classes)\n",
    "colors = {'good': 'darkgreen', 'suspect': 'goldenrod', 'bad': 'maroon'}\n",
    "df_colors = df_classes.applymap(lambda x: f'background-color: {colors.get(x, None)}')\n",
    "\n",
    "table = df.style.hide() \\\n",
    "                .apply(lambda x: pd.DataFrame(df_colors.values, columns=x.columns), axis=None) \\\n",
    "                .set_properties(subset=['Antenna'], **{'font-weight': 'bold', 'border-right': \"3pt solid black\"}) \\\n",
    "                .set_properties(subset=df.columns[1:], **{'border-left': \"1pt solid black\"}) \\\n",
    "                .set_properties(**{'text-align': 'center', 'color': 'white'})"
   ]
  },
  {
   "cell_type": "markdown",
   "id": "2d812fe1",
   "metadata": {},
   "source": [
    "# *Table 1: Complete summary of per-antenna classifications*\n",
    "\n",
    "This table summarizes the results of the various classifications schemes detailed above. \n",
    "As before, <font color='#006400'>green is good</font>, <font color='#DAA520'>yellow is suspect</font>, and <font color='#800000'>red is bad</font>. The color for each antenna (first column) is the final summary of all other classifications.\n",
    "Antennas missing from redcal $\\chi^2$ were excluded redundant-baseline calibration, either because they were flagged by `ant_metrics` or the even/odd zeros check, or because they would add unwanted extra degeneracies."
   ]
  },
  {
   "cell_type": "code",
   "execution_count": null,
   "id": "aacbd4c3",
   "metadata": {},
   "outputs": [],
   "source": [
    "HTML(table.to_html())"
   ]
  },
  {
   "cell_type": "code",
   "execution_count": null,
   "id": "dda087b8",
   "metadata": {},
   "outputs": [],
   "source": [
    "# Save antenna classification table as a csv\n",
    "if SAVE_RESULTS:\n",
    "    for ind, col in zip(np.arange(len(df.columns), 0, -1), df_classes.columns[::-1]):\n",
    "        df.insert(int(ind), col + ' Class', df_classes[col])\n",
    "    df.to_csv(ANTCLASS_FILE)    "
   ]
  },
  {
   "cell_type": "code",
   "execution_count": null,
   "id": "c3acdc23",
   "metadata": {},
   "outputs": [],
   "source": [
    "print('Final Ant-Pol Classification:\\n\\n', overall_class)"
   ]
  },
  {
   "cell_type": "markdown",
   "id": "46cbe21a",
   "metadata": {},
   "source": [
    "## Save calibration solutions"
   ]
  },
  {
   "cell_type": "code",
   "execution_count": null,
   "id": "09348a58",
   "metadata": {},
   "outputs": [],
   "source": [
    "# update flags in omnical gains and visibility solutions\n",
    "for ant in omni_flags:\n",
    "    omni_flags[ant] |= rfi_flags\n",
    "for bl in vissol_flags:\n",
    "    vissol_flags[bl] |= rfi_flags"
   ]
  },
  {
   "cell_type": "code",
   "execution_count": null,
   "id": "6600ee32",
   "metadata": {
    "code_folding": []
   },
   "outputs": [],
   "source": [
    "if SAVE_RESULTS:\n",
    "    add_to_history = 'Produced by file_calibration notebook with the following environment:\\n' + '=' * 65 + '\\n' + os.popen('conda env export').read() + '=' * 65    \n",
    "    \n",
    "    hd_vissol = io.HERAData(SUM_FILE)\n",
    "    hc_omni = hd_vissol.init_HERACal(gain_convention='divide', cal_style='redundant')\n",
    "    hc_omni.pol_convention = hd_auto_model.pol_convention\n",
    "    hc_omni.gain_scale = hd_auto_model.vis_units\n",
    "    hc_omni.update(gains=sol.gains, flags=omni_flags, quals=meta['chisq_per_ant'], total_qual=meta['chisq'])\n",
    "    hc_omni.history += add_to_history\n",
    "    hc_omni.write_calfits(OMNICAL_FILE, clobber=True)\n",
    "    del hc_omni\n",
    "    malloc_trim()\n",
    "    \n",
    "    if SAVE_OMNIVIS_FILE:\n",
    "        # output results, harmonizing keys over polarizations\n",
    "        all_reds = redcal.get_reds(hd.data_antpos, pols=['ee', 'nn', 'en', 'ne'], pol_mode='4pol', bl_error_tol=2.0)\n",
    "        bl_to_red_map = {bl: red[0] for red in all_reds for bl in red}\n",
    "        hd_vissol.read(bls=[bl_to_red_map[bl] for bl in sol.vis], return_data=False)\n",
    "        hd_vissol.empty_arrays()\n",
    "        hd_vissol.history += add_to_history\n",
    "        hd_vissol.update(data={bl_to_red_map[bl]: sol.vis[bl] for bl in sol.vis}, \n",
    "                         flags={bl_to_red_map[bl]: vissol_flags[bl] for bl in vissol_flags}, \n",
    "                         nsamples={bl_to_red_map[bl]: vissol_nsamples[bl] for bl in vissol_nsamples})\n",
    "        hd_vissol.pol_convention = hd_auto_model.pol_convention\n",
    "        hd_vissol.vis_units = hd_auto_model.vis_units\n",
    "        hd_vissol.write_uvh5(OMNIVIS_FILE, clobber=True)"
   ]
  },
  {
   "cell_type": "code",
   "execution_count": null,
   "id": "37c6b373",
   "metadata": {},
   "outputs": [],
   "source": [
    "if SAVE_RESULTS:\n",
    "    del hd_vissol\n",
    "    malloc_trim()"
   ]
  },
  {
   "cell_type": "markdown",
   "id": "8c9ba18d",
   "metadata": {},
   "source": [
    "### Output fully flagged calibration file if `OMNICAL_FILE` is not written"
   ]
  },
  {
   "cell_type": "code",
   "execution_count": null,
   "id": "46e8a62d",
   "metadata": {},
   "outputs": [],
   "source": [
    "if SAVE_RESULTS and not os.path.exists(OMNICAL_FILE):\n",
    "    print(f'WARNING: No calibration file produced at {OMNICAL_FILE}. Creating a fully-flagged placeholder calibration file.')\n",
    "    hd_writer = io.HERAData(SUM_FILE)\n",
    "    io.write_cal(OMNICAL_FILE, freqs=hd_writer.freqs, times=hd_writer.times,\n",
    "                 gains={ant: np.ones((hd_writer.Ntimes, hd_writer.Nfreqs), dtype=np.complex64) for ant in ants},\n",
    "                 flags={ant: np.ones((len(data.times), len(data.freqs)), dtype=bool) for ant in ants},\n",
    "                 quality=None, total_qual=None, outdir='', overwrite=True, history=utils.history_string(add_to_history), \n",
    "                 x_orientation=hd_writer.x_orientation, telescope_location=hd_writer.telescope_location, lst_array=np.unique(hd_writer.lsts),\n",
    "                 antenna_positions=np.array([hd_writer.antenna_positions[hd_writer.antenna_numbers == antnum].flatten() for antnum in set(ant[0] for ant in ants)]),\n",
    "                 antnums2antnames=dict(zip(hd_writer.antenna_numbers, hd_writer.antenna_names)))"
   ]
  },
  {
   "cell_type": "markdown",
   "id": "1d955c8e",
   "metadata": {},
   "source": [
    "### Output empty visibility file if `OMNIVIS_FILE` is not written"
   ]
  },
  {
   "cell_type": "code",
   "execution_count": null,
   "id": "1882bdb1",
   "metadata": {},
   "outputs": [],
   "source": [
    "if SAVE_RESULTS and SAVE_OMNIVIS_FILE and not os.path.exists(OMNIVIS_FILE):\n",
    "    print(f'WARNING: No omnivis file produced at {OMNIVIS_FILE}. Creating an empty visibility solution file.')\n",
    "    hd_writer = io.HERAData(SUM_FILE)\n",
    "    hd_writer.initialize_uvh5_file(OMNIVIS_FILE, clobber=True)"
   ]
  },
  {
   "cell_type": "markdown",
   "id": "f52a30f9",
   "metadata": {},
   "source": [
    "## Metadata"
   ]
  },
  {
   "cell_type": "code",
   "execution_count": null,
   "id": "78d18d26",
   "metadata": {
    "scrolled": true
   },
   "outputs": [],
   "source": [
    "for repo in ['pyuvdata', 'hera_cal', 'hera_filters', 'hera_qm', 'hera_notebook_templates']:\n",
    "    exec(f'from {repo} import __version__')\n",
    "    print(f'{repo}: {__version__}')"
   ]
  },
  {
   "cell_type": "code",
   "execution_count": null,
   "id": "23fd861c",
   "metadata": {},
   "outputs": [],
   "source": [
    "print(f'Finished execution in {(time.time() - tstart) / 60:.2f} minutes.')"
   ]
  }
 ],
 "metadata": {
  "kernelspec": {
   "display_name": "Python 3 (ipykernel)",
   "language": "python",
   "name": "python3"
  },
  "language_info": {
   "codemirror_mode": {
    "name": "ipython",
    "version": 3
   },
   "file_extension": ".py",
   "mimetype": "text/x-python",
   "name": "python",
   "nbconvert_exporter": "python",
   "pygments_lexer": "ipython3",
   "version": "3.10.14"
  },
  "toc": {
   "base_numbering": 1,
   "nav_menu": {},
   "number_sections": true,
   "sideBar": true,
   "skip_h1_title": true,
   "title_cell": "Table of Contents",
   "title_sidebar": "Contents",
   "toc_cell": false,
   "toc_position": {
    "height": "calc(100% - 180px)",
    "left": "10px",
    "top": "150px",
    "width": "315.391px"
   },
   "toc_section_display": true,
   "toc_window_display": false
  },
  "vscode": {
   "interpreter": {
    "hash": "1b3d6c34b4c0959d1c58ed6600dba8a283b5217fb9e451bb3c52ef7f338a0cef"
   }
  },
  "widgets": {
   "application/vnd.jupyter.widget-state+json": {
    "state": {},
    "version_major": 2,
    "version_minor": 0
   }
  }
 },
 "nbformat": 4,
 "nbformat_minor": 5
}
