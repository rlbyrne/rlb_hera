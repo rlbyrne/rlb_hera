{
 "cells": [
  {
   "cell_type": "code",
   "execution_count": 78,
   "metadata": {},
   "outputs": [],
   "source": [
    "import numpy as np\n",
    "import pyuvdata\n",
    "from newcal import calibration_wrappers, caldata, calibration_optimization, cost_function_calculations\n",
    "import importlib\n",
    "importlib.reload(calibration_wrappers)\n",
    "importlib.reload(caldata)\n",
    "importlib.reload(calibration_optimization)\n",
    "importlib.reload(cost_function_calculations)\n",
    "import matplotlib.pyplot as plt"
   ]
  },
  {
   "cell_type": "code",
   "execution_count": 79,
   "metadata": {},
   "outputs": [
    {
     "name": "stderr",
     "output_type": "stream",
     "text": [
      "Selected frequencies are not evenly spaced. This will make it impossible to write this data out to some file types\n",
      "Selected frequencies are not evenly spaced. This will make it impossible to write this data out to some file types\n",
      "Missing some redundant groups. Filling in available data.\n",
      "Missing some redundant groups. Filling in available data.\n",
      "divide by zero encountered in divide\n"
     ]
    }
   ],
   "source": [
    "data_path = (\n",
    "    f\"/Users/ruby/Downloads/zen.2459861.45004.sum.abs_calibrated.red_avg.uvh5\"\n",
    ")\n",
    "model_path = f\"/Users/ruby/Downloads/zen.2459861.45004.sum.abs_calibrated.red_avg_model.uvfits\"\n",
    "data = pyuvdata.UVData()\n",
    "data.read(data_path)\n",
    "model = pyuvdata.UVData()\n",
    "model.read(model_path)\n",
    "\n",
    "use_frequencies = list(set(data.freq_array[0, :]))[0:20]\n",
    "data.select(frequencies=use_frequencies)\n",
    "model.select(frequencies=use_frequencies)\n",
    "\n",
    "data.inflate_by_redundancy(use_grid_alg=True)\n",
    "model.inflate_by_redundancy(use_grid_alg=True)\n",
    "\n",
    "# Model does not include all baselines\n",
    "model_baselines = list(set(list(zip(model.ant_1_array, model.ant_2_array))))\n",
    "data_baselines = list(set(list(zip(data.ant_1_array, data.ant_2_array))))\n",
    "use_baselines = [\n",
    "    baseline\n",
    "    for baseline in model_baselines\n",
    "    if (baseline in data_baselines) or (baseline[::-1] in data_baselines)\n",
    "]\n",
    "use_polarizations = -5\n",
    "data.select(bls=use_baselines, polarizations=use_polarizations)\n",
    "model.select(bls=use_baselines, polarizations=use_polarizations)\n",
    "\n",
    "# Align phasing\n",
    "data.phase_to_time(np.mean(data.time_array))\n",
    "model.phase_to_time(np.mean(data.time_array))\n",
    "\n",
    "data.compress_by_redundancy()\n",
    "model.compress_by_redundancy()\n"
   ]
  },
  {
   "cell_type": "code",
   "execution_count": 106,
   "metadata": {},
   "outputs": [
    {
     "name": "stderr",
     "output_type": "stream",
     "text": [
      "divide by zero encountered in divide\n"
     ]
    }
   ],
   "source": [
    "caldata_obj = caldata.CalData()\n",
    "caldata_obj.load_data(\n",
    "    data,\n",
    "    model,\n",
    ")"
   ]
  },
  {
   "cell_type": "code",
   "execution_count": 107,
   "metadata": {},
   "outputs": [],
   "source": [
    "caldata_obj.dwcal_inv_covariance = np.zeros(\n",
    "    (\n",
    "        caldata_obj.Ntimes,\n",
    "        caldata_obj.Nbls,\n",
    "        caldata_obj.Nfreqs,\n",
    "        caldata_obj.Nfreqs,\n",
    "        caldata_obj.N_vis_pols,\n",
    "    ),\n",
    "    dtype=complex,\n",
    ")\n",
    "for freq_ind in range(caldata_obj.Nfreqs):\n",
    "    caldata_obj.dwcal_inv_covariance[:, :, freq_ind, freq_ind, :] = 1.0 + 1j * 0.0"
   ]
  },
  {
   "cell_type": "code",
   "execution_count": 108,
   "metadata": {},
   "outputs": [
    {
     "name": "stdout",
     "output_type": "stream",
     "text": [
      "(60, 60)\n",
      "[[1.42378912e+09 0.00000000e+00 0.00000000e+00 ... 0.00000000e+00\n",
      "  0.00000000e+00 0.00000000e+00]\n",
      " [0.00000000e+00 1.28055632e+09 0.00000000e+00 ... 0.00000000e+00\n",
      "  0.00000000e+00 0.00000000e+00]\n",
      " [0.00000000e+00 0.00000000e+00 1.02373846e+09 ... 0.00000000e+00\n",
      "  0.00000000e+00 0.00000000e+00]\n",
      " ...\n",
      " [0.00000000e+00 0.00000000e+00 0.00000000e+00 ... 3.84661569e+08\n",
      "  0.00000000e+00 0.00000000e+00]\n",
      " [0.00000000e+00 0.00000000e+00 0.00000000e+00 ... 0.00000000e+00\n",
      "  3.99361993e+08 0.00000000e+00]\n",
      " [0.00000000e+00 0.00000000e+00 0.00000000e+00 ... 0.00000000e+00\n",
      "  0.00000000e+00 3.84969461e+08]]\n"
     ]
    }
   ],
   "source": [
    "hess = calibration_optimization.hessian_dw_abscal_wrapper(\n",
    "    caldata_obj.abscal_params.flatten(), range(caldata_obj.Nfreqs), caldata_obj\n",
    ")\n",
    "print(np.shape(hess))\n",
    "print(hess)"
   ]
  },
  {
   "cell_type": "code",
   "execution_count": 109,
   "metadata": {},
   "outputs": [
    {
     "data": {
      "text/plain": [
       "<matplotlib.image.AxesImage at 0x170a5f1c0>"
      ]
     },
     "execution_count": 109,
     "metadata": {},
     "output_type": "execute_result"
    },
    {
     "data": {
      "image/png": "[encoded data removed]",
      "text/plain": [
       "<Figure size 640x480 with 1 Axes>"
      ]
     },
     "metadata": {},
     "output_type": "display_data"
    }
   ],
   "source": [
    "plt.imshow(hess[20:40,40:60], interpolation=None, origin=\"lower\", vmin=0, vmax=1e7)"
   ]
  },
  {
   "cell_type": "code",
   "execution_count": 110,
   "metadata": {},
   "outputs": [],
   "source": [
    "caldata_list = caldata_obj.expand_in_frequency()"
   ]
  },
  {
   "cell_type": "code",
   "execution_count": 112,
   "metadata": {},
   "outputs": [
    {
     "name": "stdout",
     "output_type": "stream",
     "text": [
      "DWAbscal cost: 1533660553.6465638\n",
      "DWAbscal cost: 1533660553.6465251\n",
      "Optimization terminated successfully.\n",
      "         Current function value: 1533660553.646525\n",
      "         Iterations: 1\n",
      "         Function evaluations: 2\n",
      "         Gradient evaluations: 2\n",
      "         Hessian evaluations: 1\n",
      "Optimization terminated successfully.\n",
      "Optimization time: 0.0013399163881937662 minutes\n",
      "Optimization terminated successfully.\n",
      "         Current function value: 381472143.592859\n",
      "         Iterations: 1\n",
      "         Function evaluations: 4\n",
      "         Gradient evaluations: 4\n",
      "         Hessian evaluations: 1\n",
      "Optimization terminated successfully.\n",
      "Optimization time: 2.5383631388346355e-05 minutes\n",
      "Optimization terminated successfully.\n",
      "         Current function value: 442810997.237129\n",
      "         Iterations: 7\n",
      "         Function evaluations: 11\n",
      "         Gradient evaluations: 11\n",
      "         Hessian evaluations: 7\n",
      "Optimization terminated successfully.\n",
      "Optimization time: 6.603399912516275e-05 minutes\n",
      "Optimization terminated successfully.\n",
      "         Current function value: 423932781.798807\n",
      "         Iterations: 5\n",
      "         Function evaluations: 7\n",
      "         Gradient evaluations: 7\n",
      "         Hessian evaluations: 5\n",
      "Optimization terminated successfully.\n",
      "Optimization time: 6.184975306193034e-05 minutes\n",
      "Optimization terminated successfully.\n",
      "         Current function value: 227327991.228847\n",
      "         Iterations: 5\n",
      "         Function evaluations: 7\n",
      "         Gradient evaluations: 7\n",
      "         Hessian evaluations: 5\n",
      "Optimization terminated successfully.\n",
      "Optimization time: 5.462964375813802e-05 minutes\n",
      "Optimization terminated successfully.\n",
      "         Current function value: 46779931.035004\n",
      "         Iterations: 6\n",
      "         Function evaluations: 10\n",
      "         Gradient evaluations: 10\n",
      "         Hessian evaluations: 6\n",
      "Optimization terminated successfully.\n",
      "Optimization time: 7.07864761352539e-05 minutes\n",
      "Optimization terminated successfully.\n",
      "         Current function value: 0.000000\n",
      "         Iterations: 1\n",
      "         Function evaluations: 1\n",
      "         Gradient evaluations: 1\n",
      "         Hessian evaluations: 1\n",
      "Optimization terminated successfully.\n",
      "Optimization time: 2.0583470662434895e-05 minutes\n",
      "Optimization terminated successfully.\n",
      "         Current function value: 0.000000\n",
      "         Iterations: 1\n",
      "         Function evaluations: 1\n",
      "         Gradient evaluations: 1\n",
      "         Hessian evaluations: 1\n",
      "Optimization terminated successfully.\n",
      "Optimization time: 1.4551480611165364e-05 minutes\n",
      "         Current function value: 5077748.603926\n",
      "         Iterations: 5\n",
      "         Function evaluations: 52\n",
      "         Gradient evaluations: 40\n",
      "         Hessian evaluations: 6\n",
      "Warning: Desired error not necessarily achieved due to precision loss.\n",
      "Optimization time: 0.00019421974817911784 minutes\n",
      "Optimization terminated successfully.\n",
      "         Current function value: 2613460.500503\n",
      "         Iterations: 7\n",
      "         Function evaluations: 9\n",
      "         Gradient evaluations: 9\n",
      "         Hessian evaluations: 7\n",
      "Optimization terminated successfully.\n",
      "Optimization time: 5.661646525065104e-05 minutes\n",
      "Optimization terminated successfully.\n",
      "         Current function value: 838362.446366\n",
      "         Iterations: 6\n",
      "         Function evaluations: 8\n",
      "         Gradient evaluations: 8\n",
      "         Hessian evaluations: 6\n",
      "Optimization terminated successfully.\n",
      "Optimization time: 4.6364466349283855e-05 minutes\n",
      "Optimization terminated successfully.\n",
      "         Current function value: 665735.609814\n",
      "         Iterations: 6\n",
      "         Function evaluations: 8\n",
      "         Gradient evaluations: 8\n",
      "         Hessian evaluations: 6\n",
      "Optimization terminated successfully.\n",
      "Optimization time: 5.054473876953125e-05 minutes\n",
      "Optimization terminated successfully.\n",
      "         Current function value: 208020.941060\n",
      "         Iterations: 4\n",
      "         Function evaluations: 5\n",
      "         Gradient evaluations: 5\n",
      "         Hessian evaluations: 4\n",
      "Optimization terminated successfully.\n",
      "Optimization time: 3.516674041748047e-05 minutes\n",
      "Optimization terminated successfully.\n",
      "         Current function value: 185949.562897\n",
      "         Iterations: 3\n",
      "         Function evaluations: 4\n",
      "         Gradient evaluations: 4\n",
      "         Hessian evaluations: 3\n",
      "Optimization terminated successfully.\n",
      "Optimization time: 2.6579697926839193e-05 minutes\n",
      "Optimization terminated successfully.\n",
      "         Current function value: 126265.600735\n",
      "         Iterations: 5\n",
      "         Function evaluations: 6\n",
      "         Gradient evaluations: 6\n",
      "         Hessian evaluations: 5\n",
      "Optimization terminated successfully.\n",
      "Optimization time: 4.117091496785482e-05 minutes\n",
      "Optimization terminated successfully.\n",
      "         Current function value: 295422.202083\n",
      "         Iterations: 7\n",
      "         Function evaluations: 12\n",
      "         Gradient evaluations: 12\n",
      "         Hessian evaluations: 7\n",
      "Optimization terminated successfully.\n",
      "Optimization time: 6.544987360636393e-05 minutes\n",
      "Optimization terminated successfully.\n",
      "         Current function value: 350944.609306\n",
      "         Iterations: 6\n",
      "         Function evaluations: 8\n",
      "         Gradient evaluations: 8\n",
      "         Hessian evaluations: 6\n",
      "Optimization terminated successfully.\n",
      "Optimization time: 5.712111790974935e-05 minutes\n",
      "Optimization terminated successfully.\n",
      "         Current function value: 192543.939938\n",
      "         Iterations: 6\n",
      "         Function evaluations: 8\n",
      "         Gradient evaluations: 8\n",
      "         Hessian evaluations: 6\n",
      "Optimization terminated successfully.\n",
      "Optimization time: 5.4434935251871744e-05 minutes\n",
      "Optimization terminated successfully.\n",
      "         Current function value: 236052.634642\n",
      "         Iterations: 6\n",
      "         Function evaluations: 8\n",
      "         Gradient evaluations: 8\n",
      "         Hessian evaluations: 6\n",
      "Optimization terminated successfully.\n",
      "Optimization time: 5.368391672770182e-05 minutes\n",
      "Optimization terminated successfully.\n",
      "         Current function value: 256776.213721\n",
      "         Iterations: 6\n",
      "         Function evaluations: 10\n",
      "         Gradient evaluations: 10\n",
      "         Hessian evaluations: 6\n",
      "Optimization terminated successfully.\n",
      "Optimization time: 5.508263905843099e-05 minutes\n",
      "Optimization terminated successfully.\n",
      "         Current function value: 289425.888912\n",
      "         Iterations: 7\n",
      "         Function evaluations: 14\n",
      "         Gradient evaluations: 14\n",
      "         Hessian evaluations: 7\n",
      "Optimization terminated successfully.\n",
      "Optimization time: 7.479985555013021e-05 minutes\n"
     ]
    },
    {
     "name": "stderr",
     "output_type": "stream",
     "text": [
      "Warning: Desired error not necessarily achieved due to precision loss.\n"
     ]
    }
   ],
   "source": [
    "calibration_optimization.run_dw_abscal_optimization(\n",
    "    caldata_obj,\n",
    "    1e-6,\n",
    "    100,\n",
    "    verbose=True,\n",
    ")\n",
    "\n",
    "abscal_params_per_freq = np.zeros((3, caldata_obj.Nfreqs))\n",
    "for freq in range(caldata_obj.Nfreqs):\n",
    "    calibration_optimization.run_abscal_optimization_single_freq(\n",
    "        caldata_list[freq],\n",
    "        1e-6,\n",
    "        100,\n",
    "        verbose=True,\n",
    "        return_abscal_params=False,\n",
    "    )\n",
    "    abscal_params_per_freq[:, freq] = caldata_list[freq].abscal_params[:, 0, 0]"
   ]
  },
  {
   "cell_type": "code",
   "execution_count": 116,
   "metadata": {},
   "outputs": [
    {
     "data": {
      "text/plain": [
       "[<matplotlib.lines.Line2D at 0x170f436d0>]"
      ]
     },
     "execution_count": 116,
     "metadata": {},
     "output_type": "execute_result"
    },
    {
     "data": {
      "image/png": "[encoded data removed]",
      "text/plain": [
       "<Figure size 640x480 with 1 Axes>"
      ]
     },
     "metadata": {},
     "output_type": "display_data"
    }
   ],
   "source": [
    "plt.plot(caldata_obj.abscal_params[2, :])\n",
    "plt.plot(abscal_params_per_freq[2, :], \"--\")"
   ]
  },
  {
   "cell_type": "code",
   "execution_count": 83,
   "metadata": {},
   "outputs": [],
   "source": [
    "test_pol_ind = 0\n",
    "(\n",
    "    hess_amp_amp,\n",
    "    hess_amp_phasex,\n",
    "    hess_amp_phasey,\n",
    "    hess_phasex_phasex,\n",
    "    hess_phasey_phasey,\n",
    "    hess_phasex_phasey,\n",
    ") = cost_function_calculations.hess_dw_abscal(\n",
    "    caldata_obj.abscal_params[0, :, test_pol_ind],\n",
    "    caldata_obj.abscal_params[1:, :, test_pol_ind],\n",
    "    caldata_obj.model_visibilities[:, :, :, test_pol_ind],\n",
    "    caldata_obj.data_visibilities[:, :, :, test_pol_ind],\n",
    "    caldata_obj.uv_array,\n",
    "    caldata_obj.visibility_weights[:, :, :, test_pol_ind],\n",
    "    caldata_obj.dwcal_inv_covariance[:, :, :, :, test_pol_ind],\n",
    ")"
   ]
  },
  {
   "cell_type": "code",
   "execution_count": 99,
   "metadata": {},
   "outputs": [
    {
     "data": {
      "text/plain": [
       "<matplotlib.image.AxesImage at 0x170cbd0f0>"
      ]
     },
     "execution_count": 99,
     "metadata": {},
     "output_type": "execute_result"
    },
    {
     "data": {
      "image/png": "[encoded data removed]",
      "text/plain": [
       "<Figure size 640x480 with 1 Axes>"
      ]
     },
     "metadata": {},
     "output_type": "display_data"
    }
   ],
   "source": [
    "plt.imshow(\n",
    "    np.abs(hess_phasex_phasey), interpolation=None, origin=\"lower\", vmin=0, vmax=1e-5\n",
    ")"
   ]
  },
  {
   "cell_type": "code",
   "execution_count": 24,
   "metadata": {},
   "outputs": [
    {
     "ename": "TypeError",
     "evalue": "tuple indices must be integers or slices, not tuple",
     "output_type": "error",
     "traceback": [
      "\u001b[0;31m---------------------------------------------------------------------------\u001b[0m",
      "\u001b[0;31mTypeError\u001b[0m                                 Traceback (most recent call last)",
      "Cell \u001b[0;32mIn[24], line 1\u001b[0m\n\u001b[0;32m----> 1\u001b[0m \u001b[38;5;28mprint\u001b[39m(np\u001b[38;5;241m.\u001b[39mshape(\u001b[43mhess2\u001b[49m\u001b[43m[\u001b[49m\u001b[38;5;241;43m0\u001b[39;49m\u001b[43m,\u001b[49m\u001b[43m \u001b[49m\u001b[43m:\u001b[49m\u001b[43m,\u001b[49m\u001b[43m \u001b[49m\u001b[43m:\u001b[49m\u001b[43m]\u001b[49m))\n",
      "\u001b[0;31mTypeError\u001b[0m: tuple indices must be integers or slices, not tuple"
     ]
    }
   ],
   "source": [
    "print(np.shape(hess2[0, :, :]))"
   ]
  },
  {
   "cell_type": "code",
   "execution_count": 65,
   "metadata": {},
   "outputs": [],
   "source": [
    "def hess_phasex_phasex(\n",
    "    amp,\n",
    "    phase_grad,\n",
    "    model_visibilities,\n",
    "    data_visibilities,\n",
    "    uv_array,\n",
    "    visibility_weights,\n",
    "    dwcal_inv_covariance,\n",
    "):\n",
    "    phase_term = np.sum(\n",
    "        phase_grad[np.newaxis, :, :] * uv_array[:, :, np.newaxis], axis=1\n",
    "    )  # Shape (Nbls, Nfreqs,)\n",
    "    res_vec = np.sqrt(visibility_weights) * (\n",
    "        (amp[np.newaxis, :] ** 2.0 * np.exp(1j * phase_term))[np.newaxis, :, :]\n",
    "        * data_visibilities\n",
    "        - model_visibilities\n",
    "    )  # Shape (Ntimes, Nbls, Nfreqs,)\n",
    "    derivative_term = (\n",
    "        np.sqrt(visibility_weights)\n",
    "        * np.exp(-1j * phase_term)[np.newaxis, :, :]\n",
    "        * np.conj(data_visibilities)\n",
    "    )  # Shape (Ntimes, Nbls, Nfreqs,)\n",
    "    no_diag = (\n",
    "        2\n",
    "        * amp[:, np.newaxis] ** 2.0\n",
    "        * amp[np.newaxis, :] ** 2.0\n",
    "        * np.real(\n",
    "            np.sum(\n",
    "                dwcal_inv_covariance  \n",
    "                * uv_array[np.newaxis, :, np.newaxis, np.newaxis, 0]\n",
    "                ** 2.0  \n",
    "                * derivative_term[:, :, np.newaxis, :]  \n",
    "                * np.conj(derivative_term[:, :, :, np.newaxis]),\n",
    "                axis=(0, 1),\n",
    "            )\n",
    "        )\n",
    "    )\n",
    "    diag = (\n",
    "        -2\n",
    "        * amp ** 2.0\n",
    "        * np.real(\n",
    "            np.sum(\n",
    "                dwcal_inv_covariance  # Shape (Ntimes, Nbls, Nfreqs, Nfreqs,)\n",
    "                * uv_array[np.newaxis, :, np.newaxis, np.newaxis, 0]\n",
    "                ** 2.0  # Shape (1, Nbls, 1, 1)\n",
    "                * derivative_term[\n",
    "                    :, :, :, np.newaxis\n",
    "                ]  # Shape (Ntimes, Nbls, Nfreqs, 1)\n",
    "                * res_vec[:, :, np.newaxis, :],  # Shape (Ntimes, Nbls, 1, Nfreqs,)\n",
    "                axis=(0, 1, 3),\n",
    "            )\n",
    "        )\n",
    "    )\n",
    "    return no_diag + np.diag(diag)"
   ]
  },
  {
   "cell_type": "code",
   "execution_count": 66,
   "metadata": {},
   "outputs": [],
   "source": [
    "phasex_phasex_no_diag = hess_phasex_phasex(\n",
    "    caldata_obj.abscal_params[0, :, test_pol_ind],\n",
    "    caldata_obj.abscal_params[1:, :, test_pol_ind],\n",
    "    caldata_obj.model_visibilities[:, :, :, test_pol_ind],\n",
    "    caldata_obj.data_visibilities[:, :, :, test_pol_ind],\n",
    "    caldata_obj.uv_array,\n",
    "    caldata_obj.visibility_weights[:, :, :, test_pol_ind],\n",
    "    caldata_obj.dwcal_inv_covariance[:, :, :, :, test_pol_ind],\n",
    ")"
   ]
  },
  {
   "cell_type": "code",
   "execution_count": 68,
   "metadata": {},
   "outputs": [
    {
     "data": {
      "text/plain": [
       "<matplotlib.image.AxesImage at 0x179856ef0>"
      ]
     },
     "execution_count": 68,
     "metadata": {},
     "output_type": "execute_result"
    },
    {
     "data": {
      "image/png": "[encoded data removed]",
      "text/plain": [
       "<Figure size 640x480 with 1 Axes>"
      ]
     },
     "metadata": {},
     "output_type": "display_data"
    }
   ],
   "source": [
    "plt.imshow(np.diag(range(10)), interpolation=None, origin=\"lower\", vmin=0)"
   ]
  },
  {
   "cell_type": "code",
   "execution_count": null,
   "metadata": {},
   "outputs": [],
   "source": []
  }
 ],
 "metadata": {
  "kernelspec": {
   "display_name": "py310",
   "language": "python",
   "name": "python3"
  },
  "language_info": {
   "codemirror_mode": {
    "name": "ipython",
    "version": 3
   },
   "file_extension": ".py",
   "mimetype": "text/x-python",
   "name": "python",
   "nbconvert_exporter": "python",
   "pygments_lexer": "ipython3",
   "version": "3.10.14"
  }
 },
 "nbformat": 4,
 "nbformat_minor": 2
}
