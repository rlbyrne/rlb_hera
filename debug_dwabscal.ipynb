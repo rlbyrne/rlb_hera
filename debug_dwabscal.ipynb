{
 "cells": [
  {
   "cell_type": "code",
   "execution_count": 33,
   "metadata": {},
   "outputs": [],
   "source": [
    "import numpy as np\n",
    "import pyuvdata\n",
    "from newcal import (\n",
    "    caldata,\n",
    "    calibration_wrappers,\n",
    "    calibration_optimization,\n",
    "    cost_function_calculations,\n",
    ")\n",
    "import matplotlib.pyplot as plt"
   ]
  },
  {
   "cell_type": "code",
   "execution_count": 2,
   "metadata": {},
   "outputs": [],
   "source": [
    "THIS_DIR = \"/home/rbyrne/newcal/newcal\""
   ]
  },
  {
   "cell_type": "code",
   "execution_count": 25,
   "metadata": {},
   "outputs": [],
   "source": [
    "test_freq_ind = 0\n",
    "test_pol_ind = 0\n",
    "delta_val = 1e-8\n",
    "amplitude_perturbation = 1.3\n",
    "use_Nfreqs = 3"
   ]
  },
  {
   "cell_type": "code",
   "execution_count": 4,
   "metadata": {},
   "outputs": [
    {
     "name": "stderr",
     "output_type": "stream",
     "text": [
      "Combined frequencies are separated by more than their channel width. This will make it impossible to write this data out to some file types.\n",
      "Combined frequencies are separated by more than their channel width. This will make it impossible to write this data out to some file types.\n",
      "Combined frequencies are separated by more than their channel width. This will make it impossible to write this data out to some file types.\n",
      "Combined frequencies are not evenly spaced or have differing values of channel widths. This will make it impossible to write this data out to some file types.\n"
     ]
    }
   ],
   "source": [
    "# Get data\n",
    "model = pyuvdata.UVData()\n",
    "model.read(f\"{THIS_DIR}/data/test_model_1freq.uvfits\")\n",
    "data = pyuvdata.UVData()\n",
    "data.read(f\"{THIS_DIR}/data/test_data_1freq.uvfits\")\n",
    "\n",
    "data_copy = data.copy()\n",
    "model_copy = model.copy()\n",
    "for ind in range(1, use_Nfreqs):\n",
    "    data_copy.freq_array += 1e6\n",
    "    model_copy.freq_array += 1e6 * ind\n",
    "    data.fast_concat(data_copy, \"freq\", inplace=True)\n",
    "    model.fast_concat(model_copy, \"freq\", inplace=True)\n",
    "\n",
    "# Added for debugging\n",
    "data.select(polarizations=[-5], blt_inds=[0, 1], inplace=True)\n",
    "model.select(polarizations=[-5], blt_inds=[0, 1], inplace=True)\n",
    "\n",
    "caldata_obj = caldata.CalData()\n",
    "caldata_obj.load_data(data, model)\n",
    "\n",
    "caldata_obj.visibility_weights[:, :, :, :] = 1  # Unflag all\n"
   ]
  },
  {
   "cell_type": "code",
   "execution_count": 5,
   "metadata": {},
   "outputs": [],
   "source": [
    "caldata_obj.dwcal_inv_covariance = np.random.rand(\n",
    "    caldata_obj.Ntimes,\n",
    "    caldata_obj.Nbls,\n",
    "    caldata_obj.Nfreqs,\n",
    "    caldata_obj.Nfreqs,\n",
    "    caldata_obj.N_vis_pols,\n",
    ") + 1j * np.random.rand(\n",
    "    caldata_obj.Ntimes,\n",
    "    caldata_obj.Nbls,\n",
    "    caldata_obj.Nfreqs,\n",
    "    caldata_obj.Nfreqs,\n",
    "    caldata_obj.N_vis_pols,\n",
    ")\n",
    "caldata_obj.dwcal_inv_covariance = np.transpose(\n",
    "    np.matmul(\n",
    "        np.transpose(caldata_obj.dwcal_inv_covariance, axes=(0, 1, 4, 2, 3)),\n",
    "        np.conj(np.transpose(caldata_obj.dwcal_inv_covariance, axes=(0, 1, 4, 3, 2))),\n",
    "    ),\n",
    "    axes=(0, 1, 3, 4, 2),\n",
    ")  # Enforce that the matrix is Hermitian"
   ]
  },
  {
   "cell_type": "code",
   "execution_count": 26,
   "metadata": {},
   "outputs": [
    {
     "name": "stdout",
     "output_type": "stream",
     "text": [
      "[1. 1. 1.]\n",
      "[1. 1. 1.]\n",
      "DWAbscal cost: 0.23008303671557215\n",
      "DWAbscal cost: 0.2300812224591118\n",
      "Gradient approximation value: 181.42564603418342\n",
      "Jacobian value: 181.42564758524466\n"
     ]
    }
   ],
   "source": [
    "amp_terms_1 = np.copy(caldata_obj.abscal_params[0, :, test_pol_ind])\n",
    "amp_terms_1[test_freq_ind] += delta_val / 2\n",
    "print(amp_terms_1)\n",
    "amp_terms_2 = np.copy(caldata_obj.abscal_params[0, :, test_pol_ind])\n",
    "amp_terms_2[test_freq_ind] -= delta_val / 2\n",
    "print(amp_terms_2)\n",
    "\n",
    "cost1 = cost_function_calculations.cost_function_dw_abscal(\n",
    "    amp_terms_1,\n",
    "    caldata_obj.abscal_params[1:, :, test_pol_ind],\n",
    "    caldata_obj.model_visibilities[:, :, :, test_pol_ind],\n",
    "    caldata_obj.data_visibilities[:, :, :, test_pol_ind],\n",
    "    caldata_obj.uv_array,\n",
    "    caldata_obj.visibility_weights[:, :, :, test_pol_ind],\n",
    "    caldata_obj.dwcal_inv_covariance[:, :, :, :, test_pol_ind],\n",
    ")\n",
    "cost0 = cost_function_calculations.cost_function_dw_abscal(\n",
    "    amp_terms_2,\n",
    "    caldata_obj.abscal_params[1:, :, test_pol_ind],\n",
    "    caldata_obj.model_visibilities[:, :, :, test_pol_ind],\n",
    "    caldata_obj.data_visibilities[:, :, :, test_pol_ind],\n",
    "    caldata_obj.uv_array,\n",
    "    caldata_obj.visibility_weights[:, :, :, test_pol_ind],\n",
    "    caldata_obj.dwcal_inv_covariance[:, :, :, :, test_pol_ind],\n",
    ")\n",
    "\n",
    "amp_jac, phase_jac = cost_function_calculations.jacobian_dw_abscal(\n",
    "    caldata_obj.abscal_params[0, :, test_pol_ind],\n",
    "    caldata_obj.abscal_params[1:, :, test_pol_ind],\n",
    "    caldata_obj.model_visibilities[:, :, :, test_pol_ind],\n",
    "    caldata_obj.data_visibilities[:, :, :, test_pol_ind],\n",
    "    caldata_obj.uv_array,\n",
    "    caldata_obj.visibility_weights[:, :, :, test_pol_ind],\n",
    "    caldata_obj.dwcal_inv_covariance[:, :, :, :, test_pol_ind],\n",
    ")\n",
    "\n",
    "grad_approx = (cost1 - cost0) / delta_val\n",
    "\n",
    "print(f\"Gradient approximation value: {grad_approx}\")\n",
    "print(f\"Jacobian value: {amp_jac[test_freq_ind]}\")"
   ]
  },
  {
   "cell_type": "code",
   "execution_count": 19,
   "metadata": {},
   "outputs": [
    {
     "name": "stdout",
     "output_type": "stream",
     "text": [
      "DWAbscal cost: 5659.534569653178\n",
      "5659.534569653178\n",
      "DWAbscal cost: 16022.896404559413\n",
      "16022.896404559413\n"
     ]
    }
   ],
   "source": [
    "for amp_val in [1-delta_val/2, 1+delta_val/2]:\n",
    "    use_amps = np.array([amp_val, 1, 1])\n",
    "    cost = cost_function_calculations.cost_function_dw_abscal(\n",
    "        use_amps,\n",
    "        caldata_obj.abscal_params[1:, :, test_pol_ind],\n",
    "        caldata_obj.model_visibilities[:, :, :, test_pol_ind],\n",
    "        caldata_obj.data_visibilities[:, :, :, test_pol_ind],\n",
    "        caldata_obj.uv_array,\n",
    "        caldata_obj.visibility_weights[:, :, :, test_pol_ind],\n",
    "        caldata_obj.dwcal_inv_covariance[:, :, :, :, test_pol_ind],\n",
    "    )\n",
    "    print(cost)"
   ]
  },
  {
   "cell_type": "code",
   "execution_count": 7,
   "metadata": {},
   "outputs": [
    {
     "name": "stdout",
     "output_type": "stream",
     "text": [
      "[-0.00899124+0.17314911j -0.00899124+0.17314911j -0.00899124+0.17314911j]\n"
     ]
    }
   ],
   "source": [
    "res_vec = (caldata_obj.data_visibilities-caldata_obj.model_visibilities).flatten()\n",
    "print(res_vec)"
   ]
  },
  {
   "cell_type": "code",
   "execution_count": 8,
   "metadata": {},
   "outputs": [
    {
     "name": "stdout",
     "output_type": "stream",
     "text": [
      "[[1.76897455+0.j         0.93340642+0.22872332j 0.84406295+0.02421241j]\n",
      " [0.93340642-0.22872332j 0.70494105+0.j         0.401461  +0.03454489j]\n",
      " [0.84406295-0.02421241j 0.401461  -0.03454489j 0.82194899+0.j        ]]\n"
     ]
    }
   ],
   "source": [
    "cov_mat = caldata_obj.dwcal_inv_covariance[0,0,:,:,0]\n",
    "print(cov_mat)"
   ]
  },
  {
   "cell_type": "code",
   "execution_count": 9,
   "metadata": {},
   "outputs": [
    {
     "name": "stdout",
     "output_type": "stream",
     "text": [
      "(0.2300821295863238-4.336808689942018e-19j)\n"
     ]
    }
   ],
   "source": [
    "cost_estimated = np.einsum(\"i,ij,j\", np.conj(res_vec), cov_mat, res_vec)\n",
    "print(cost_estimated)"
   ]
  },
  {
   "cell_type": "code",
   "execution_count": 10,
   "metadata": {},
   "outputs": [
    {
     "name": "stdout",
     "output_type": "stream",
     "text": [
      "DWAbscal cost: 0.2300821295863238\n",
      "0.2300821295863238\n"
     ]
    }
   ],
   "source": [
    "cost = cost_function_calculations.cost_function_dw_abscal(\n",
    "    caldata_obj.abscal_params[0, :, test_pol_ind],\n",
    "    caldata_obj.abscal_params[1:, :, test_pol_ind],\n",
    "    caldata_obj.model_visibilities[:, :, :, test_pol_ind],\n",
    "    caldata_obj.data_visibilities[:, :, :, test_pol_ind],\n",
    "    caldata_obj.uv_array,\n",
    "    caldata_obj.visibility_weights[:, :, :, test_pol_ind],\n",
    "    caldata_obj.dwcal_inv_covariance[:, :, :, :, test_pol_ind],\n",
    ")\n",
    "print(cost)"
   ]
  },
  {
   "cell_type": "code",
   "execution_count": 11,
   "metadata": {},
   "outputs": [
    {
     "name": "stdout",
     "output_type": "stream",
     "text": [
      "[181.42564759  98.77009937 102.37784575]\n"
     ]
    }
   ],
   "source": [
    "jac_estimated = (\n",
    "    4\n",
    "    * np.real(np.conj(caldata_obj.data_visibilities.flatten())\n",
    "    * np.einsum(\"ij,j\", cov_mat, res_vec)\n",
    "))\n",
    "print(jac_estimated)"
   ]
  },
  {
   "cell_type": "code",
   "execution_count": 12,
   "metadata": {},
   "outputs": [
    {
     "name": "stdout",
     "output_type": "stream",
     "text": [
      "[181.42564759+0.j  98.77009937+0.j 102.37784575+0.j]\n"
     ]
    }
   ],
   "source": [
    "jac_estimated = (\n",
    "    2\n",
    "    * np.conj(caldata_obj.data_visibilities.flatten())\n",
    "    * np.einsum(\"ij,j\", cov_mat, res_vec)\n",
    ") + (\n",
    "    2\n",
    "    * caldata_obj.data_visibilities.flatten()\n",
    "    * np.einsum(\"ij,j\", np.conj(cov_mat), np.conj(res_vec))\n",
    ")\n",
    "print(jac_estimated)"
   ]
  },
  {
   "cell_type": "code",
   "execution_count": 13,
   "metadata": {},
   "outputs": [
    {
     "name": "stdout",
     "output_type": "stream",
     "text": [
      "(array([181.42564759,  98.77009937, 102.37784575]), array([[1241.42852345, 1176.00330633, 1004.18453684],\n",
      "       [  99.77947433,   94.5209406 ,   80.71105451]]))\n"
     ]
    }
   ],
   "source": [
    "jac = cost_function_calculations.jacobian_dw_abscal(\n",
    "    caldata_obj.abscal_params[0, :, test_pol_ind],\n",
    "    caldata_obj.abscal_params[1:, :, test_pol_ind],\n",
    "    caldata_obj.model_visibilities[:, :, :, test_pol_ind],\n",
    "    caldata_obj.data_visibilities[:, :, :, test_pol_ind],\n",
    "    caldata_obj.uv_array,\n",
    "    caldata_obj.visibility_weights[:, :, :, test_pol_ind],\n",
    "    caldata_obj.dwcal_inv_covariance[:, :, :, :, test_pol_ind],\n",
    ")\n",
    "print(jac)"
   ]
  },
  {
   "cell_type": "code",
   "execution_count": 27,
   "metadata": {},
   "outputs": [
    {
     "name": "stderr",
     "output_type": "stream",
     "text": [
      "Missing some redundant groups. Filling in available data.\n",
      "Missing some redundant groups. Filling in available data.\n"
     ]
    }
   ],
   "source": [
    "avg_spectra = np.load(\n",
    "    \"/safepool/rbyrne/hera_abscal_Jun2024/mean_variance_abscal_nbins200_xx.npz\"\n",
    ")\n",
    "delay_spectrum_variance = avg_spectra[\"variance\"]\n",
    "bl_length_bin_edges = avg_spectra[\"bl_bin_edges\"]\n",
    "delay_axis = avg_spectra[\"delay_array\"]\n",
    "\n",
    "data_path = \"/safepool/rbyrne/hera_data/H6C-data/2459861/zen.2459861.45004.sum.abs_calibrated.red_avg.uvh5\"\n",
    "model_path = \"/safepool/rbyrne/hera_data/interpolated_models/zen.2459861.45004.sum.abs_calibrated.red_avg_model.uvfits\"\n",
    "data = pyuvdata.UVData()\n",
    "data.read(data_path)\n",
    "model = pyuvdata.UVData()\n",
    "model.read(model_path)\n",
    "\n",
    "data.inflate_by_redundancy(use_grid_alg=True)\n",
    "model.inflate_by_redundancy(use_grid_alg=True)\n",
    "\n",
    "# Model does not include all baselines\n",
    "model_baselines = list(set(list(zip(model.ant_1_array, model.ant_2_array))))\n",
    "data_baselines = list(set(list(zip(data.ant_1_array, data.ant_2_array))))\n",
    "use_baselines = [\n",
    "    baseline\n",
    "    for baseline in model_baselines\n",
    "    if (baseline in data_baselines) or (baseline[::-1] in data_baselines)\n",
    "]\n",
    "use_polarizations = -5  # Use XX only\n",
    "data.select(bls=use_baselines, polarizations=use_polarizations)\n",
    "model.select(bls=use_baselines, polarizations=use_polarizations)\n",
    "\n",
    "# Align phasing\n",
    "data.phase_to_time(np.mean(data.time_array))\n",
    "model.phase_to_time(np.mean(data.time_array))\n",
    "\n",
    "data.compress_by_redundancy()\n",
    "model.compress_by_redundancy()"
   ]
  },
  {
   "cell_type": "code",
   "execution_count": 28,
   "metadata": {},
   "outputs": [],
   "source": [
    "initial_abscal_params = np.zeros((3, 1536, 1))\n",
    "initial_abscal_params[0, :, 0] = np.random.normal(1.0, scale=.1, size=(1536))\n",
    "initial_abscal_params[1, :, 0] = np.random.normal(0.0, scale=0.01, size=(1536))\n",
    "initial_abscal_params[2, :, 0] = np.random.normal(0.0, scale=0.01, size=(1536))"
   ]
  },
  {
   "cell_type": "code",
   "execution_count": 30,
   "metadata": {},
   "outputs": [
    {
     "name": "stdout",
     "output_type": "stream",
     "text": [
      "Reading data...\n",
      "Formatting data...\n",
      "Done. Data formatting time 0.004313870271046957 minutes.\n",
      "Calculating delay weighting matrix...\n"
     ]
    },
    {
     "name": "stderr",
     "output_type": "stream",
     "text": [
      "invalid value encountered in divide\n"
     ]
    },
    {
     "name": "stdout",
     "output_type": "stream",
     "text": [
      "Done. Time calculating delay weighting matrix 4.969100530942281 minutes.\n",
      "Running calibration optimization...\n",
      "DWAbscal cost: 12568647144.449415\n",
      "Initial cost: 12568647144.449415\n",
      "DWAbscal cost: 12568647144.449415\n",
      "DWAbscal cost: 25194503518.83907\n",
      "DWAbscal cost: 23503555038.864895\n",
      "DWAbscal cost: 7713719545.854509\n",
      "DWAbscal cost: 4515502655.552569\n",
      "DWAbscal cost: 4119138877.5500197\n",
      "DWAbscal cost: 3386827423.2913203\n",
      "Optimization terminated successfully.\n",
      "         Current function value: 3386827423.291320\n",
      "         Iterations: 4\n",
      "         Function evaluations: 7\n",
      "         Gradient evaluations: 7\n",
      "         Hessian evaluations: 4\n",
      "Optimization terminated successfully.\n",
      "Optimization time: 34.48926722606023 minutes\n",
      "DWAbscal cost: 3386827423.2913203\n",
      "Final cost: 3386827423.2913203\n",
      "Done. Optimization time: 1536 frequency channels in 34.98424084583918 minutes\n",
      "Total processing time 39.9533925930659 minutes.\n",
      "[[[ 8.69448902e-01]\n",
      "  [ 1.10928463e+00]\n",
      "  [ 9.94281216e-01]\n",
      "  ...\n",
      "  [ 1.02176844e+00]\n",
      "  [ 9.94314559e-01]\n",
      "  [ 9.25540899e-01]]\n",
      "\n",
      " [[ 4.82225177e-03]\n",
      "  [-5.51103255e-03]\n",
      "  [-7.71433304e-04]\n",
      "  ...\n",
      "  [-2.82656024e-03]\n",
      "  [ 1.23199809e-02]\n",
      "  [ 2.46775135e-03]]\n",
      "\n",
      " [[ 6.33235353e-04]\n",
      "  [-9.58062954e-04]\n",
      "  [ 3.03486419e-03]\n",
      "  ...\n",
      "  [-1.14660421e-03]\n",
      "  [ 6.98697424e-03]\n",
      "  [-1.43820764e-02]]]\n"
     ]
    }
   ],
   "source": [
    "# Run DWAbscal\n",
    "dwabscal_params = calibration_wrappers.dw_absolute_calibration(\n",
    "    data,\n",
    "    data,\n",
    "    delay_spectrum_variance,\n",
    "    bl_length_bin_edges,\n",
    "    delay_axis,\n",
    "    initial_abscal_params=initial_abscal_params,\n",
    "    verbose=True,\n",
    "    xtol=1e-4,\n",
    "    maxiter=50,\n",
    ")\n",
    "\n",
    "print(dwabscal_params)"
   ]
  },
  {
   "cell_type": "code",
   "execution_count": 37,
   "metadata": {},
   "outputs": [
    {
     "data": {
      "text/plain": [
       "[<matplotlib.lines.Line2D at 0x7f3e7be03550>]"
      ]
     },
     "execution_count": 37,
     "metadata": {},
     "output_type": "execute_result"
    },
    {
     "data": {
      "image/png": "[encoded data removed]",
      "text/plain": [
       "<Figure size 640x480 with 1 Axes>"
      ]
     },
     "metadata": {},
     "output_type": "display_data"
    }
   ],
   "source": [
    "plt.plot(dwabscal_params[0, :, 0])"
   ]
  },
  {
   "cell_type": "code",
   "execution_count": 51,
   "metadata": {},
   "outputs": [
    {
     "name": "stderr",
     "output_type": "stream",
     "text": [
      "invalid value encountered in divide\n"
     ]
    }
   ],
   "source": [
    "caldata_obj = caldata.CalData()\n",
    "caldata_obj.load_data(\n",
    "    data,\n",
    "    data,\n",
    ")\n",
    "caldata_obj.abscal_params = initial_abscal_params\n",
    "calibration_wrappers.get_dwcal_weights_from_delay_spectra(\n",
    "    caldata_obj,\n",
    "    delay_spectrum_variance,\n",
    "    bl_length_bin_edges,\n",
    "    delay_axis,\n",
    ")"
   ]
  },
  {
   "cell_type": "code",
   "execution_count": 52,
   "metadata": {},
   "outputs": [],
   "source": [
    "def newtons_method_optimizer(\n",
    "    x0,\n",
    "    caldata_obj,\n",
    "    step_size=0.1,\n",
    "    covergence_condition=0.001,\n",
    "    maxiters=100,\n",
    "):\n",
    "\n",
    "    n_iters = 0\n",
    "    convergence_iters = 0\n",
    "    while convergence_iters < 3 and n_iters <= maxiters:\n",
    "        hess_mat = calibration_optimization.hessian_dw_abscal_wrapper(\n",
    "            x0, list(range(caldata_obj.Nfreqs)), caldata_obj\n",
    "        )\n",
    "        hess_mat_inv = np.linalg.inv(hess_mat)\n",
    "        del hess_mat\n",
    "        jac = calibration_optimization.jacobian_dw_abscal_wrapper(\n",
    "            x0,\n",
    "            list(range(caldata_obj.Nfreqs)),\n",
    "            caldata_obj,\n",
    "        )\n",
    "        x1 = x0 - step_size * np.matmul(hess_mat_inv, jac)\n",
    "        del hess_mat_inv\n",
    "        del jac\n",
    "        cost = calibration_optimization.cost_dw_abscal_wrapper(\n",
    "            x0,\n",
    "            list(range(caldata_obj.Nfreqs)),\n",
    "            caldata_obj,\n",
    "        )\n",
    "        print(f\"Iteration {n_iters}, cost func value: {cost}\")\n",
    "        check_conv = np.max(np.abs(x1 - x0))\n",
    "        if check_conv < covergence_condition:\n",
    "            convergence_iters += 1\n",
    "        else:\n",
    "            convergence_iters = 0\n",
    "        x0 = x1\n",
    "        n_iters += 1\n",
    "\n",
    "    return x1"
   ]
  },
  {
   "cell_type": "code",
   "execution_count": 53,
   "metadata": {},
   "outputs": [],
   "source": [
    "x1 = newtons_method_optimizer(caldata_obj.abscal_params[:, :, 0].flatten(), caldata_obj)"
   ]
  },
  {
   "cell_type": "code",
   "execution_count": 40,
   "metadata": {},
   "outputs": [
    {
     "ename": "NameError",
     "evalue": "name 'x1' is not defined",
     "output_type": "error",
     "traceback": [
      "\u001b[0;31m---------------------------------------------------------------------------\u001b[0m",
      "\u001b[0;31mNameError\u001b[0m                                 Traceback (most recent call last)",
      "Cell \u001b[0;32mIn[40], line 1\u001b[0m\n\u001b[0;32m----> 1\u001b[0m \u001b[38;5;28mprint\u001b[39m(\u001b[43mx1\u001b[49m)\n",
      "\u001b[0;31mNameError\u001b[0m: name 'x1' is not defined"
     ]
    }
   ],
   "source": [
    "print(x1)"
   ]
  },
  {
   "cell_type": "code",
   "execution_count": null,
   "metadata": {},
   "outputs": [],
   "source": []
  }
 ],
 "metadata": {
  "kernelspec": {
   "display_name": "py310",
   "language": "python",
   "name": "python3"
  },
  "language_info": {
   "codemirror_mode": {
    "name": "ipython",
    "version": 3
   },
   "file_extension": ".py",
   "mimetype": "text/x-python",
   "name": "python",
   "nbconvert_exporter": "python",
   "pygments_lexer": "ipython3",
   "version": "3.10.14"
  }
 },
 "nbformat": 4,
 "nbformat_minor": 2
}
